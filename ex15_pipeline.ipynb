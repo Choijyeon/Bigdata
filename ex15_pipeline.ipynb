{
 "cells": [
  {
   "cell_type": "code",
   "execution_count": 1,
   "metadata": {},
   "outputs": [],
   "source": [
    "from pyspark.sql import SparkSession\n",
    "ss = SparkSession.builder.master('local').appName('pipeline').getOrCreate()"
   ]
  },
  {
   "cell_type": "markdown",
   "metadata": {},
   "source": [
    "## LogisticRegression 파이프라인 구현하기\n",
    "+ 예측 문제: Spark에 대한 텍스트 인지 아닌지를 분류\n",
    "+ Pipeline: 머신러닝 과정에 대한 파이프라인 정의\n",
    "+ HashingTF: 컬럼을 용어빈도(term-frequency) 컬럼으로 변환하는 Transformer\n",
    "+ Tokenizer: 컬럼의 텍스트를 여러 개의 단어로 분할하는 Transformer"
   ]
  },
  {
   "cell_type": "code",
   "execution_count": 2,
   "metadata": {},
   "outputs": [],
   "source": [
    "from pyspark.ml import Pipeline\n",
    "from pyspark.ml.linalg import Vectors\n",
    "from pyspark.ml.classification import LogisticRegression\n",
    "from pyspark.ml.feature import HashingTF, Tokenizer"
   ]
  },
  {
   "cell_type": "code",
   "execution_count": 4,
   "metadata": {},
   "outputs": [],
   "source": [
    "# 훈련 데이터에 대한 DataFrame 생성\n",
    "train_df = ss.createDataFrame([\n",
    "    (0, \"a b c d e spark\", 1.0),\n",
    "    (1, \"b d\", 0.0),\n",
    "    (2, \"spark f g h\", 1.0),\n",
    "    (3, \"hadoop mapreduce\", 0.0)\n",
    "], [\"id\", \"text\", \"label\"])\n",
    "\n",
    "# 세 번째 column은 레이블(text가 ㅇㅇ면 1 ㅁㅁ면 0 이런식)"
   ]
  },
  {
   "cell_type": "code",
   "execution_count": 5,
   "metadata": {},
   "outputs": [],
   "source": [
    "\"\"\"\n",
    "    머신러닝 파이프라인 과정: Tokenizer -> HashingTF -> LogisticRegression\n",
    "\"\"\"\n",
    "\n",
    "# Tokenizer 객체 생성\n",
    "tokenizer = Tokenizer(inputCol=\"text\", outputCol=\"words\") # 단어단위로 분류"
   ]
  },
  {
   "cell_type": "code",
   "execution_count": 6,
   "metadata": {},
   "outputs": [],
   "source": [
    "# HashingTF 객체 생성\n",
    "hashingTF = HashingTF(inputCol=tokenizer.getOutputCol(), outputCol=\"features\")"
   ]
  },
  {
   "cell_type": "code",
   "execution_count": 8,
   "metadata": {},
   "outputs": [],
   "source": [
    "\"\"\"\n",
    "    [+] LogisticRegression 객체 생성\n",
    "    - maxIter = 10\n",
    "    - regParam = 0.001\n",
    "\"\"\"\n",
    "lr = LogisticRegression(maxIter=10, regParam=0.001)"
   ]
  },
  {
   "cell_type": "code",
   "execution_count": 9,
   "metadata": {},
   "outputs": [],
   "source": [
    "# [+] Pipeline 객체 생성\n",
    "pipeline = Pipeline(stages=[tokenizer, hashingTF, lr]) \n",
    "# stages는 여러 개 단계로 구성돼있으니까 stages로 매개변수넣어줘야함)\n",
    "# 순서에 맞춰 list형태로 넣어줌. tokenizer -> hashing -> lr"
   ]
  },
  {
   "cell_type": "code",
   "execution_count": 11,
   "metadata": {},
   "outputs": [],
   "source": [
    "# [+] Pipeline 실행 -> 모델 생성\n",
    "model = pipeline.fit(train_df)\n",
    "# pipeline에 들어있는 step들 일괄 실행하는 것"
   ]
  },
  {
   "cell_type": "code",
   "execution_count": 12,
   "metadata": {},
   "outputs": [],
   "source": [
    "# 테스트 데이터에 대한 DataFrame 생성\n",
    "test_df = ss.createDataFrame([\n",
    "    (4, \"spark i j k\"),\n",
    "    (5, \"l m n\"),\n",
    "    (6, \"spark hadoop spark\"),\n",
    "    (7, \"apache hadoop\")\n",
    "], [\"id\", \"text\"])"
   ]
  },
  {
   "cell_type": "code",
   "execution_count": 13,
   "metadata": {},
   "outputs": [],
   "source": [
    "# [+] 테스트 데이터에 대한 예측\n",
    "predictions = model.transform(test_df)"
   ]
  },
  {
   "cell_type": "code",
   "execution_count": 16,
   "metadata": {},
   "outputs": [
    {
     "name": "stdout",
     "output_type": "stream",
     "text": [
      "+---+------------------+--------------------+--------------------+--------------------+--------------------+----------+\n",
      "| id|              text|               words|            features|       rawPrediction|         probability|prediction|\n",
      "+---+------------------+--------------------+--------------------+--------------------+--------------------+----------+\n",
      "|  4|       spark i j k|    [spark, i, j, k]|(262144,[19036,68...|[0.52882855227967...|[0.62920984896684...|       0.0|\n",
      "|  5|             l m n|           [l, m, n]|(262144,[1303,526...|[4.16914139534004...|[0.98477000676230...|       0.0|\n",
      "|  6|spark hadoop spark|[spark, hadoop, s...|(262144,[173558,1...|[-1.8649814141189...|[0.13412348342566...|       1.0|\n",
      "|  7|     apache hadoop|    [apache, hadoop]|(262144,[68303,19...|[5.41564427200183...|[0.99557321143985...|       0.0|\n",
      "+---+------------------+--------------------+--------------------+--------------------+--------------------+----------+\n",
      "\n"
     ]
    }
   ],
   "source": [
    "predictions.show()\n",
    "# feature에 나와있는 숫자들은 feature에 해당하는 ID만들어준 것. 이것이 hasingTF의 역할"
   ]
  },
  {
   "cell_type": "code",
   "execution_count": null,
   "metadata": {},
   "outputs": [],
   "source": [
    "# pipeline써서 머신러닝 과정 일괄 실행.\n",
    "# pipeline쓰면 중간 step의 변화 있을 경우 그 스텝(ex.tokenizer 등등)을 바꾸면 돼서 쉬움.->유지보수 편함"
   ]
  }
 ],
 "metadata": {
  "kernelspec": {
   "display_name": "Python 3",
   "language": "python",
   "name": "python3"
  },
  "language_info": {
   "codemirror_mode": {
    "name": "ipython",
    "version": 3
   },
   "file_extension": ".py",
   "mimetype": "text/x-python",
   "name": "python",
   "nbconvert_exporter": "python",
   "pygments_lexer": "ipython3",
   "version": "3.8.5"
  }
 },
 "nbformat": 4,
 "nbformat_minor": 4
}
