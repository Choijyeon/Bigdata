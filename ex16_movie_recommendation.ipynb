{
 "cells": [
  {
   "cell_type": "code",
   "execution_count": 1,
   "metadata": {},
   "outputs": [],
   "source": [
    "# [+] SparkSession 설정\n",
    "from pyspark.sql import SparkSession\n",
    "\n",
    "ss = SparkSession.builder.master('local').appName('movie-recommendation').getOrCreate()"
   ]
  },
  {
   "cell_type": "code",
   "execution_count": 2,
   "metadata": {},
   "outputs": [],
   "source": [
    "# [+] movielens 데이터 불러오기\n",
    "# ratings_short.csv: 원본 데이터에서 7만개의 평점 데이터만 선택한 버전\n",
    "\n",
    "ratings_df = ss.read.csv('./data/ratings_short.csv', header=True, inferSchema=True) # csv로부터 dataframe만들어주는 메소드\n",
    "\n",
    "# header옵션 : 그냥 하면 header를 value로 인식함. header로 인식해야함.\n",
    "# inferSchema옵션 : schema추론,들어온 값들 보고 데이터 타입 추측해서 결정해주는 것"
   ]
  },
  {
   "cell_type": "code",
   "execution_count": 3,
   "metadata": {},
   "outputs": [
    {
     "name": "stdout",
     "output_type": "stream",
     "text": [
      "+------+-------+------+----------+\n",
      "|userId|movieId|rating| timestamp|\n",
      "+------+-------+------+----------+\n",
      "|     1|    296|   5.0|1147880044|\n",
      "|     1|    306|   3.5|1147868817|\n",
      "|     1|    307|   5.0|1147868828|\n",
      "|     1|    665|   5.0|1147878820|\n",
      "|     1|    899|   3.5|1147868510|\n",
      "|     1|   1088|   4.0|1147868495|\n",
      "|     1|   1175|   3.5|1147868826|\n",
      "|     1|   1217|   3.5|1147878326|\n",
      "|     1|   1237|   5.0|1147868839|\n",
      "|     1|   1250|   4.0|1147868414|\n",
      "|     1|   1260|   3.5|1147877857|\n",
      "|     1|   1653|   4.0|1147868097|\n",
      "|     1|   2011|   2.5|1147868079|\n",
      "|     1|   2012|   2.5|1147868068|\n",
      "|     1|   2068|   2.5|1147869044|\n",
      "|     1|   2161|   3.5|1147868609|\n",
      "|     1|   2351|   4.5|1147877957|\n",
      "|     1|   2573|   4.0|1147878923|\n",
      "|     1|   2632|   5.0|1147878248|\n",
      "|     1|   2692|   5.0|1147869100|\n",
      "+------+-------+------+----------+\n",
      "only showing top 20 rows\n",
      "\n"
     ]
    }
   ],
   "source": [
    "ratings_df.show()"
   ]
  },
  {
   "cell_type": "code",
   "execution_count": 4,
   "metadata": {},
   "outputs": [
    {
     "name": "stdout",
     "output_type": "stream",
     "text": [
      "root\n",
      " |-- userId: integer (nullable = true)\n",
      " |-- movieId: integer (nullable = true)\n",
      " |-- rating: double (nullable = true)\n",
      " |-- timestamp: integer (nullable = true)\n",
      "\n"
     ]
    }
   ],
   "source": [
    "ratings_df.printSchema()"
   ]
  },
  {
   "cell_type": "code",
   "execution_count": 5,
   "metadata": {},
   "outputs": [],
   "source": [
    "# [+] 타임스탬프 제외한 컬럼 선택\n",
    "# 간단한 컬럼 선택하는 정도는 select 메소드 사용\n",
    "ratings_df = ratings_df.select(['userId', 'movieId', 'rating'])\n",
    "# 이렇게 하면 이 column 뺴고 날아감"
   ]
  },
  {
   "cell_type": "code",
   "execution_count": 7,
   "metadata": {},
   "outputs": [
    {
     "name": "stdout",
     "output_type": "stream",
     "text": [
      "+-------+------------------+\n",
      "|summary|            rating|\n",
      "+-------+------------------+\n",
      "|  count|             71921|\n",
      "|   mean|3.5821387355570695|\n",
      "| stddev| 1.042406032579843|\n",
      "|    min|               0.5|\n",
      "|    max|               5.0|\n",
      "+-------+------------------+\n",
      "\n"
     ]
    }
   ],
   "source": [
    "# [+] describe(): 기본 통계치 출력 : show메소드 붙여줘야 출력됨\n",
    "# ratings_df.describe().show()\n",
    "\n",
    "ratings_df.select('rating').describe().show()\n",
    "# userID는 의미없고 rating값이 의미있음."
   ]
  },
  {
   "cell_type": "code",
   "execution_count": 9,
   "metadata": {},
   "outputs": [],
   "source": [
    "# [+] randomSplit(): 훈련 데이터셋과 테스트 데이터셋을 나누기\n",
    "# 테스트 데이터셋에는 정답 안주고 훈련 데이터셋에만 정답 주기.\n",
    "train_df, test_df = ratings_df.randomSplit([0.8, 0.2])\n",
    "\n",
    "# 두 개의 실수값 : 훈련 데이터셋과 테스트 데이터셋의 비율"
   ]
  },
  {
   "cell_type": "code",
   "execution_count": 10,
   "metadata": {},
   "outputs": [],
   "source": [
    "# [+] 추천 알고리즘(Alternating Least Squares) 임포트\n",
    "# pyspark.ml.recommendation.ALS\n",
    "from pyspark.ml.recommendation import ALS"
   ]
  },
  {
   "cell_type": "code",
   "execution_count": 11,
   "metadata": {},
   "outputs": [],
   "source": [
    "# 추천 알고리즘 설정 : 얘도 모델이기 때문에 매개변수 작성해줘야함.\n",
    "\n",
    "als = ALS(\n",
    "    maxIter=5,\n",
    "    regParam=0.1,\n",
    "    userCol='userId',\n",
    "    itemCol='movieId',\n",
    "    ratingCol='rating',\n",
    "    coldStartStrategy='drop'\n",
    ")\n",
    "\n",
    "# maxIter : 몇 번 반복 -> 값 너무 크면 학습시간 오래 걸림. 너무 작으면 학습이 잘 안됨\n",
    "# regParam : 정규화 매개변수 -> 모델이 학습할 때 특정 문제에 꽂혀서 쏠리는 '과적합'을 막기 위해 도움\n",
    "# userCol : user의 ID가 어떤 column인지\n",
    "# ItemCol : Item의 ID가 어떤 column인지\n",
    "# ratingCol : rating의 ID가 어떤 column인지\n",
    "# coldStartStrategy : 협업 필터링도 일반적으로 데이터 끌어와서 시작. 초반에 데이터 부족할 때 어떻게 처리할거냐(일단은 drop시킨다)"
   ]
  },
  {
   "cell_type": "code",
   "execution_count": 12,
   "metadata": {},
   "outputs": [],
   "source": [
    "# [+] 모델 학습\n",
    "# 학습 알고리즘은 estimater임 : df입력(훈련데이터) 받고 fit()호출하면 최종 결과물이 학습된 결과물 내보냄\n",
    "# 머신러닝에서는 학습된 모델도 transformter임\n",
    "model = als.fit(train_df)"
   ]
  },
  {
   "cell_type": "code",
   "execution_count": 13,
   "metadata": {},
   "outputs": [],
   "source": [
    "# # 메모리 부족으로 인한 오류 발생시, 아래의 코드를 실행\n",
    "# from pyspark.sql import SparkSession\n",
    "\n",
    "# MAX_MEMORY = '5g'\n",
    "# ss = SparkSession.builder.appName('movie-recommendation')\\\n",
    "#     .config('spark.executor.memory', MAX_MEMORY)\\\n",
    "#     .config('spark.driver.memory', MAX_MEMORY)\\\n",
    "#     .getOrCreate()"
   ]
  },
  {
   "cell_type": "code",
   "execution_count": 14,
   "metadata": {},
   "outputs": [],
   "source": [
    "# [+] 모델 예측\n",
    "predictions = model.transform(test_df)"
   ]
  },
  {
   "cell_type": "code",
   "execution_count": 13,
   "metadata": {},
   "outputs": [
    {
     "name": "stdout",
     "output_type": "stream",
     "text": [
      "+------+-------+------+----------+\n",
      "|userId|movieId|rating|prediction|\n",
      "+------+-------+------+----------+\n",
      "|   148|     19|   3.0| 2.4453733|\n",
      "|   148|     32|   4.0| 3.9750795|\n",
      "|   148|    296|   5.0| 4.2587757|\n",
      "|   148|    527|   5.0|  4.327331|\n",
      "|   148|    608|   3.0|   4.17881|\n",
      "|   148|    899|   4.0| 4.0264363|\n",
      "|   148|    903|   4.0|  4.113871|\n",
      "|   148|    926|   4.0|  4.129926|\n",
      "|   148|   1199|   3.5| 3.9897857|\n",
      "|   148|   1204|   4.0| 4.1555805|\n",
      "|   148|   1219|   4.5| 3.9384148|\n",
      "|   148|   1284|   4.0|  4.102206|\n",
      "|   148|   2951|   4.5| 4.0937843|\n",
      "|   148|   2959|   4.5|  4.321707|\n",
      "|   148|   5952|   4.5| 3.9747446|\n",
      "|   148|  44191|   4.0|  4.094489|\n",
      "|   148|  48394|   4.0| 3.9580433|\n",
      "|   148|  54286|   3.5| 3.6169014|\n",
      "|   148|  63082|   3.5| 3.7964337|\n",
      "|   148|  88810|   4.0| 3.8019857|\n",
      "+------+-------+------+----------+\n",
      "only showing top 20 rows\n",
      "\n"
     ]
    }
   ],
   "source": [
    "predictions.show()"
   ]
  },
  {
   "cell_type": "code",
   "execution_count": 19,
   "metadata": {},
   "outputs": [
    {
     "name": "stdout",
     "output_type": "stream",
     "text": [
      "+-------+------------------+------------------+\n",
      "|summary|            rating|        prediction|\n",
      "+-------+------------------+------------------+\n",
      "|  count|             13404|             13404|\n",
      "|   mean|3.6026186213070726|3.4263027497914362|\n",
      "| stddev|1.0458274172510669| 0.755273742684219|\n",
      "|    min|               0.5|        -0.2114266|\n",
      "|    max|               5.0|         5.4964566|\n",
      "+-------+------------------+------------------+\n",
      "\n"
     ]
    }
   ],
   "source": [
    "# [+] 평점과 예측평점에 대한 통계 출력\n",
    "predictions.select('rating','prediction').describe().show()"
   ]
  },
  {
   "cell_type": "code",
   "execution_count": 20,
   "metadata": {},
   "outputs": [],
   "source": [
    "# 모델 성능 평가: RMSE(Root Mean Squared Error)\n",
    "from pyspark.ml.evaluation import RegressionEvaluator\n",
    "\n",
    "evaluator = RegressionEvaluator(\n",
    "    metricName='rmse',\n",
    "    labelCol='rating',\n",
    "    predictionCol='prediction'\n",
    ")\n",
    "# metric : 손실함수(?)\n",
    "# labelCol : lable이 뭐냐 -> 여기선 rating이 정답. 예측값이 prediction\n",
    "# predictionCol : 예측값이 뭐냐"
   ]
  },
  {
   "cell_type": "code",
   "execution_count": 21,
   "metadata": {
    "scrolled": true
   },
   "outputs": [],
   "source": [
    "# [+] RMSE 측정\n",
    "rmse = evaluator.evaluate(predictions)"
   ]
  },
  {
   "cell_type": "code",
   "execution_count": 22,
   "metadata": {},
   "outputs": [
    {
     "data": {
      "text/plain": [
       "0.9196393714889269"
      ]
     },
     "execution_count": 22,
     "metadata": {},
     "output_type": "execute_result"
    }
   ],
   "source": [
    "rmse"
   ]
  },
  {
   "cell_type": "code",
   "execution_count": 23,
   "metadata": {},
   "outputs": [
    {
     "name": "stderr",
     "output_type": "stream",
     "text": [
      "C:\\Users\\wlgus\\anaconda3\\lib\\site-packages\\pyspark\\sql\\context.py:125: FutureWarning: Deprecated in 3.0.0. Use SparkSession.builder.getOrCreate() instead.\n",
      "  warnings.warn(\n"
     ]
    },
    {
     "name": "stdout",
     "output_type": "stream",
     "text": [
      "+------+--------------------+\n",
      "|userId|     recommendations|\n",
      "+------+--------------------+\n",
      "|     1|[{127098, 4.99715...|\n",
      "|     2|[{27831, 5.841985...|\n",
      "|     3|[{98056, 5.000975...|\n",
      "|     4|[{5269, 5.2346363...|\n",
      "|     5|[{3896, 5.3201604...|\n",
      "|     6|[{66371, 5.592423...|\n",
      "|     7|[{26758, 4.810811...|\n",
      "|     8|[{27815, 5.020187...|\n",
      "|     9|[{2747, 5.3472943...|\n",
      "|    10|[{87234, 4.877119...|\n",
      "|    11|[{3896, 4.7304196...|\n",
      "|    12|[{3881, 5.037133}...|\n",
      "|    13|[{3881, 5.122769}...|\n",
      "|    14|[{3881, 5.4408813...|\n",
      "|    15|[{3881, 5.8478184...|\n",
      "|    16|[{3881, 5.417631}...|\n",
      "|    17|[{27831, 4.833974...|\n",
      "|    18|[{2116, 4.65739},...|\n",
      "|    19|[{8235, 5.02025},...|\n",
      "|    20|[{3896, 5.5270505...|\n",
      "+------+--------------------+\n",
      "only showing top 20 rows\n",
      "\n"
     ]
    }
   ],
   "source": [
    "# [+] 학습된 모델을 이용하여 유저별 아이템을 3개씩 추천\n",
    "model.recommendForAllUsers(3).show()"
   ]
  },
  {
   "cell_type": "code",
   "execution_count": 24,
   "metadata": {},
   "outputs": [
    {
     "name": "stdout",
     "output_type": "stream",
     "text": [
      "+-------+--------------------+\n",
      "|movieId|     recommendations|\n",
      "+-------+--------------------+\n",
      "|      1|[{327, 5.280331},...|\n",
      "|      2|[{240, 4.902102},...|\n",
      "|      3|[{198, 4.730104},...|\n",
      "|      4|[{240, 4.837999},...|\n",
      "|      5|[{484, 4.615079},...|\n",
      "|      6|[{87, 5.0074406},...|\n",
      "|      7|[{49, 4.4785647},...|\n",
      "|      9|[{50, 4.235085}, ...|\n",
      "|     10|[{87, 4.669992}, ...|\n",
      "|     11|[{448, 5.0882316}...|\n",
      "|     12|[{448, 3.1003792}...|\n",
      "|     13|[{327, 5.450998},...|\n",
      "|     14|[{235, 4.586305},...|\n",
      "|     15|[{198, 4.5943217}...|\n",
      "|     16|[{448, 5.404675},...|\n",
      "|     17|[{198, 5.386191},...|\n",
      "|     18|[{240, 5.1541247}...|\n",
      "|     19|[{199, 4.5232077}...|\n",
      "|     20|[{501, 5.0340548}...|\n",
      "|     21|[{474, 4.421303},...|\n",
      "+-------+--------------------+\n",
      "only showing top 20 rows\n",
      "\n"
     ]
    }
   ],
   "source": [
    "# [+] 학습된 모델을 이용하여 아이템별 유저를 3명씩 추천\n",
    "model.recommendForAllItems(3).show()"
   ]
  },
  {
   "cell_type": "code",
   "execution_count": 69,
   "metadata": {},
   "outputs": [],
   "source": [
    "# 특정 유저 선택\n",
    "user_lst = [1]"
   ]
  },
  {
   "cell_type": "code",
   "execution_count": 70,
   "metadata": {},
   "outputs": [],
   "source": [
    "from pyspark.sql.types import IntegerType"
   ]
  },
  {
   "cell_type": "code",
   "execution_count": 71,
   "metadata": {},
   "outputs": [],
   "source": [
    "# 데이터프레임생성\n",
    "users_df = ss.createDataFrame(user_lst, IntegerType()).toDF('userID')"
   ]
  },
  {
   "cell_type": "code",
   "execution_count": 72,
   "metadata": {},
   "outputs": [
    {
     "name": "stdout",
     "output_type": "stream",
     "text": [
      "+------+\n",
      "|userID|\n",
      "+------+\n",
      "|     1|\n",
      "+------+\n",
      "\n"
     ]
    }
   ],
   "source": [
    "users_df.show()"
   ]
  },
  {
   "cell_type": "code",
   "execution_count": 73,
   "metadata": {},
   "outputs": [
    {
     "name": "stderr",
     "output_type": "stream",
     "text": [
      "C:\\Users\\wlgus\\anaconda3\\lib\\site-packages\\pyspark\\sql\\context.py:125: FutureWarning: Deprecated in 3.0.0. Use SparkSession.builder.getOrCreate() instead.\n",
      "  warnings.warn(\n"
     ]
    }
   ],
   "source": [
    "# recommendForUserSubset(): 특정 유저 그룹에 대한 아이템 추천\n",
    "user_recs = model.recommendForUserSubset(users_df, 5)"
   ]
  },
  {
   "cell_type": "code",
   "execution_count": 74,
   "metadata": {},
   "outputs": [
    {
     "name": "stdout",
     "output_type": "stream",
     "text": [
      "+------+--------------------+\n",
      "|userId|     recommendations|\n",
      "+------+--------------------+\n",
      "|     1|[{127098, 4.99715...|\n",
      "+------+--------------------+\n",
      "\n"
     ]
    }
   ],
   "source": [
    "user_recs.show()"
   ]
  },
  {
   "cell_type": "code",
   "execution_count": 75,
   "metadata": {},
   "outputs": [],
   "source": [
    "# 추천결과를 파이썬 객체로 받아오기\n",
    "movies_lst = user_recs.collect()[0].recommendations"
   ]
  },
  {
   "cell_type": "code",
   "execution_count": 76,
   "metadata": {},
   "outputs": [
    {
     "data": {
      "text/plain": [
       "[Row(movieId=127098, rating=4.997156620025635),\n",
       " Row(movieId=8327, rating=4.93673038482666),\n",
       " Row(movieId=5767, rating=4.9037184715271),\n",
       " Row(movieId=106452, rating=4.903459548950195),\n",
       " Row(movieId=55363, rating=4.885514259338379)]"
      ]
     },
     "execution_count": 76,
     "metadata": {},
     "output_type": "execute_result"
    }
   ],
   "source": [
    "movies_lst \n",
    "# 여기까지 추천한 것. 영화제목 불러오기 위해 join연산 할 것"
   ]
  },
  {
   "cell_type": "code",
   "execution_count": 77,
   "metadata": {},
   "outputs": [
    {
     "name": "stdout",
     "output_type": "stream",
     "text": [
      "+-------+-----------------+\n",
      "|movieId|           rating|\n",
      "+-------+-----------------+\n",
      "| 127098|4.997156620025635|\n",
      "|   8327| 4.93673038482666|\n",
      "|   5767|  4.9037184715271|\n",
      "| 106452|4.903459548950195|\n",
      "|  55363|4.885514259338379|\n",
      "+-------+-----------------+\n",
      "\n"
     ]
    }
   ],
   "source": [
    "# movies_lst 에 대한 데이터프레임 생성\n",
    "recs_df = ss.createDataFrame(movies_lst)\n",
    "recs_df.show()"
   ]
  },
  {
   "cell_type": "code",
   "execution_count": 78,
   "metadata": {},
   "outputs": [
    {
     "name": "stdout",
     "output_type": "stream",
     "text": [
      "+-------+--------------------+--------------------+\n",
      "|movieId|               title|              genres|\n",
      "+-------+--------------------+--------------------+\n",
      "|      1|    Toy Story (1995)|Adventure|Animati...|\n",
      "|      2|      Jumanji (1995)|Adventure|Childre...|\n",
      "|      3|Grumpier Old Men ...|      Comedy|Romance|\n",
      "|      4|Waiting to Exhale...|Comedy|Drama|Romance|\n",
      "|      5|Father of the Bri...|              Comedy|\n",
      "|      6|         Heat (1995)|Action|Crime|Thri...|\n",
      "|      7|      Sabrina (1995)|      Comedy|Romance|\n",
      "|      8| Tom and Huck (1995)|  Adventure|Children|\n",
      "|      9| Sudden Death (1995)|              Action|\n",
      "|     10|    GoldenEye (1995)|Action|Adventure|...|\n",
      "|     11|American Presiden...|Comedy|Drama|Romance|\n",
      "|     12|Dracula: Dead and...|       Comedy|Horror|\n",
      "|     13|        Balto (1995)|Adventure|Animati...|\n",
      "|     14|        Nixon (1995)|               Drama|\n",
      "|     15|Cutthroat Island ...|Action|Adventure|...|\n",
      "|     16|       Casino (1995)|         Crime|Drama|\n",
      "|     17|Sense and Sensibi...|       Drama|Romance|\n",
      "|     18|   Four Rooms (1995)|              Comedy|\n",
      "|     19|Ace Ventura: When...|              Comedy|\n",
      "|     20|  Money Train (1995)|Action|Comedy|Cri...|\n",
      "+-------+--------------------+--------------------+\n",
      "only showing top 20 rows\n",
      "\n"
     ]
    }
   ],
   "source": [
    "# [+] 영화 데이터에 대한 데이터프레임 생성\n",
    "movies_df = ss.read.csv('./data/movies_short.csv', inferSchema=True, header=True)\n",
    "movies_df.show()"
   ]
  },
  {
   "cell_type": "code",
   "execution_count": 79,
   "metadata": {},
   "outputs": [],
   "source": [
    "# [+] recs_df, movies_df 에 대한 Temporary View 생성\n",
    "recs_df.createOrReplaceTempView('recommendations')\n",
    "movies_df.createOrReplaceTempView('movies')"
   ]
  },
  {
   "cell_type": "code",
   "execution_count": 80,
   "metadata": {},
   "outputs": [
    {
     "data": {
      "text/html": [
       "<div>\n",
       "<style scoped>\n",
       "    .dataframe tbody tr th:only-of-type {\n",
       "        vertical-align: middle;\n",
       "    }\n",
       "\n",
       "    .dataframe tbody tr th {\n",
       "        vertical-align: top;\n",
       "    }\n",
       "\n",
       "    .dataframe thead th {\n",
       "        text-align: right;\n",
       "    }\n",
       "</style>\n",
       "<table border=\"1\" class=\"dataframe\">\n",
       "  <thead>\n",
       "    <tr style=\"text-align: right;\">\n",
       "      <th></th>\n",
       "      <th>movieId</th>\n",
       "      <th>title</th>\n",
       "      <th>genres</th>\n",
       "      <th>movieId</th>\n",
       "      <th>rating</th>\n",
       "    </tr>\n",
       "  </thead>\n",
       "  <tbody>\n",
       "    <tr>\n",
       "      <th>0</th>\n",
       "      <td>8327</td>\n",
       "      <td>Dolls (2002)</td>\n",
       "      <td>Drama|Romance</td>\n",
       "      <td>8327</td>\n",
       "      <td>4.93673</td>\n",
       "    </tr>\n",
       "  </tbody>\n",
       "</table>\n",
       "</div>"
      ],
      "text/plain": [
       "   movieId         title         genres  movieId   rating\n",
       "0     8327  Dolls (2002)  Drama|Romance     8327  4.93673"
      ]
     },
     "execution_count": 80,
     "metadata": {},
     "output_type": "execute_result"
    }
   ],
   "source": [
    "# [+] SQL JOIN 연산을 통해 추천된 영화 제목 받아오기\n",
    "ss.sql(\"SELECT * FROM movies \\\n",
    "        JOIN recommendations ON movies.movieID = recommendations.movieID \\\n",
    "        ORDER BY rating DESC\").toPandas()\n",
    "\n",
    "# 한 사람에 대한 추천 결과와 title을 볼 수 있음. \n",
    "# spark sql에서 출력하면 잘리고 show메소드로 볼 수 있는데 pandas의 dataframe으로 바꿔서 보면 편하게 볼 수 있음"
   ]
  },
  {
   "cell_type": "code",
   "execution_count": 81,
   "metadata": {},
   "outputs": [],
   "source": [
    "\"\"\"\n",
    "    유저 별 영화 추천 서비스를 함수로 정의하기\n",
    "    1. 쿼리문 작성\n",
    "    2. 추천 함수 작성\n",
    "\"\"\"\n",
    "\n",
    "query = \"\"\"\n",
    "SELECT * \n",
    "FROM movies\n",
    "JOIN recommendations ON movies.movieID = recommendations.movieID \\\n",
    "ORDER BY rating DESC\n",
    "\"\"\"\n",
    "\n",
    "# query를 문자열로 빼고 함수를 정의할 때 sql메소드 통해 => ss.sql(query) 정의"
   ]
  },
  {
   "cell_type": "code",
   "execution_count": 82,
   "metadata": {},
   "outputs": [],
   "source": [
    "def get_recommendations(user_id, num_recs):\n",
    "    users_df = ss.createDataFrame([user_id], IntegerType()).toDF('userID')\n",
    "    users_recs_df = model.recommendForUserSubset(users_df, num_recs)\n",
    "    \n",
    "    recs_lst = users_recs_df.collect()[0].recommendations\n",
    "    recs_df = ss.createDataFrame(recs_lst)\n",
    "    recommended_movies = ss.sql(query)\n",
    "    return recommended_movies"
   ]
  },
  {
   "cell_type": "code",
   "execution_count": 83,
   "metadata": {},
   "outputs": [
    {
     "name": "stderr",
     "output_type": "stream",
     "text": [
      "C:\\Users\\wlgus\\anaconda3\\lib\\site-packages\\pyspark\\sql\\context.py:125: FutureWarning: Deprecated in 3.0.0. Use SparkSession.builder.getOrCreate() instead.\n",
      "  warnings.warn(\n"
     ]
    }
   ],
   "source": [
    "# 1번 유저에 대한 영화추천\n",
    "recs = get_recommendations(1, 5)"
   ]
  },
  {
   "cell_type": "code",
   "execution_count": 84,
   "metadata": {},
   "outputs": [
    {
     "data": {
      "text/html": [
       "<div>\n",
       "<style scoped>\n",
       "    .dataframe tbody tr th:only-of-type {\n",
       "        vertical-align: middle;\n",
       "    }\n",
       "\n",
       "    .dataframe tbody tr th {\n",
       "        vertical-align: top;\n",
       "    }\n",
       "\n",
       "    .dataframe thead th {\n",
       "        text-align: right;\n",
       "    }\n",
       "</style>\n",
       "<table border=\"1\" class=\"dataframe\">\n",
       "  <thead>\n",
       "    <tr style=\"text-align: right;\">\n",
       "      <th></th>\n",
       "      <th>movieId</th>\n",
       "      <th>title</th>\n",
       "      <th>genres</th>\n",
       "      <th>movieId</th>\n",
       "      <th>rating</th>\n",
       "    </tr>\n",
       "  </thead>\n",
       "  <tbody>\n",
       "    <tr>\n",
       "      <th>0</th>\n",
       "      <td>8327</td>\n",
       "      <td>Dolls (2002)</td>\n",
       "      <td>Drama|Romance</td>\n",
       "      <td>8327</td>\n",
       "      <td>4.93673</td>\n",
       "    </tr>\n",
       "  </tbody>\n",
       "</table>\n",
       "</div>"
      ],
      "text/plain": [
       "   movieId         title         genres  movieId   rating\n",
       "0     8327  Dolls (2002)  Drama|Romance     8327  4.93673"
      ]
     },
     "execution_count": 84,
     "metadata": {},
     "output_type": "execute_result"
    }
   ],
   "source": [
    "# toPandas(): Pandas 데이터프레임으로 출력\n",
    "recs.toPandas()"
   ]
  },
  {
   "cell_type": "code",
   "execution_count": 68,
   "metadata": {},
   "outputs": [],
   "source": [
    "# 문제는 평점을 날렸고 전체 영화 정보를 잘라냄. 그래서 다른 정보 받아서 추천 받으려면 오류날 수 잇음.추천해주는데 movies데이터에 존재하지않을 수 있음.\n",
    "# cluster를 구성하면 MovieLens 데이터셋으로 분석하고 추천 가능하긴 함. "
   ]
  }
 ],
 "metadata": {
  "kernelspec": {
   "display_name": "Python 3",
   "language": "python",
   "name": "python3"
  },
  "language_info": {
   "codemirror_mode": {
    "name": "ipython",
    "version": 3
   },
   "file_extension": ".py",
   "mimetype": "text/x-python",
   "name": "python",
   "nbconvert_exporter": "python",
   "pygments_lexer": "ipython3",
   "version": "3.8.5"
  }
 },
 "nbformat": 4,
 "nbformat_minor": 5
}
