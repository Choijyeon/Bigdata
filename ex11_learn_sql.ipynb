{
 "cells": [
  {
   "cell_type": "markdown",
   "metadata": {},
   "source": [
    "## Spark SQL 튜토리얼\n",
    "+ 데이터프레임 생성하기\n",
    "+ SQL 처리를 위한 Temporary View 생성\n",
    "+ 기본 SQL문 실습"
   ]
  },
  {
   "cell_type": "code",
   "execution_count": 6,
   "metadata": {},
   "outputs": [],
   "source": [
    "# [+] SparkSession 임포트\n",
    "from pyspark.sql import SparkSession"
   ]
  },
  {
   "cell_type": "code",
   "execution_count": 8,
   "metadata": {},
   "outputs": [],
   "source": [
    "# [+] SparkSession 설정하기\n",
    "ss = SparkSession.builder.master('local').appName('learn-sql').getOrCreate()"
   ]
  },
  {
   "cell_type": "markdown",
   "metadata": {},
   "source": [
    "### 샘플 데이터셋: 주식 데이터\n",
    "+ 변수: 회사명(name), 종목코드(ticker), 상장국가(country), 주가(price), 통화(currency)\n",
    "+ 주가: Double 형식과 Long 형식이 섞이면 TypeError 발생하므로 Double(실수) 형태로 통일\n",
    "    + 예: 삼성 주가, 67300 -> 67300.0\n"
   ]
  },
  {
   "cell_type": "code",
   "execution_count": 10,
   "metadata": {},
   "outputs": [],
   "source": [
    "# 샘플 데이터셋\n",
    "\n",
    "stocks = [\n",
    "    ('Alphabet', 'GOOGL', 'USA', 2282.19, 'USD'), \n",
    "    ('Netflix', 'NFLX', 'USA', 190.36, 'USD'),\n",
    "    ('Amazon', 'AMZN', 'USA', 2485.63, 'USD'),\n",
    "    ('Tesla', 'TSLA', 'USA', 870.76, 'USD'),\n",
    "    ('HUYA', 'HUYA', 'USA', 4.13, 'USD'),\n",
    "    ('Tencent', '0700', 'Hong Kong', 377.4, 'HKD'),\n",
    "    ('Toyota', '7203', 'Japan', 2228.0, 'JPY'),\n",
    "    ('Samsung', '005930', 'Korea', 67300.0, 'KRW'),\n",
    "    ('Kakao', '035720', 'Korea', 87300.0, 'KRW'),\n",
    "    ('Com2uS', '078340', 'Korea', 95000.0, 'KRW')\n",
    "]\n",
    "# 한국은 소수점 X 주의!"
   ]
  },
  {
   "cell_type": "code",
   "execution_count": 11,
   "metadata": {},
   "outputs": [],
   "source": [
    "# [+] 스키마 정의: 데이터 타입 자동으로 추론\n",
    "stocksSchema = ['name', 'ticker', 'country', 'price', 'currency'] # 변수명 정의"
   ]
  },
  {
   "cell_type": "code",
   "execution_count": 14,
   "metadata": {},
   "outputs": [],
   "source": [
    "# [+] 데이터프레임 생성\n",
    "df = ss.createDataFrame(data=stocks, schema=stocksSchema) # schema정의 안해도 되지만 안하면 의미없음"
   ]
  },
  {
   "cell_type": "code",
   "execution_count": 16,
   "metadata": {},
   "outputs": [
    {
     "name": "stdout",
     "output_type": "stream",
     "text": [
      "root\n",
      " |-- name: string (nullable = true)\n",
      " |-- ticker: string (nullable = true)\n",
      " |-- country: string (nullable = true)\n",
      " |-- price: double (nullable = true)\n",
      " |-- currency: string (nullable = true)\n",
      "\n"
     ]
    }
   ],
   "source": [
    "# [+] 생성된 데이터프레임 확인\n",
    "df.printSchema() # nullable : null값 허용여부(true는 허용)"
   ]
  },
  {
   "cell_type": "code",
   "execution_count": 18,
   "metadata": {},
   "outputs": [
    {
     "name": "stdout",
     "output_type": "stream",
     "text": [
      "+--------+------+---------+-------+--------+\n",
      "|    name|ticker|  country|  price|currency|\n",
      "+--------+------+---------+-------+--------+\n",
      "|Alphabet| GOOGL|      USA|2282.19|     USD|\n",
      "| Netflix|  NFLX|      USA| 190.36|     USD|\n",
      "|  Amazon|  AMZN|      USA|2485.63|     USD|\n",
      "|   Tesla|  TSLA|      USA| 870.76|     USD|\n",
      "|    HUYA|  HUYA|      USA|   4.13|     USD|\n",
      "| Tencent|  0700|Hong Kong|  377.4|     HKD|\n",
      "|  Toyota|  7203|    Japan| 2228.0|     JPY|\n",
      "| Samsung|005930|    Korea|67300.0|     KRW|\n",
      "|   Kakao|035720|    Korea|87300.0|     KRW|\n",
      "|  Com2uS|078340|    Korea|95000.0|     KRW|\n",
      "+--------+------+---------+-------+--------+\n",
      "\n"
     ]
    }
   ],
   "source": [
    "# [+] 데이터프레임 출력\n",
    "df.show() # RDD의 collect와 비슷한 역할. 데이터 보여줌"
   ]
  },
  {
   "cell_type": "code",
   "execution_count": 19,
   "metadata": {},
   "outputs": [],
   "source": [
    "# [+] Temporary View 생성 -> df이 RDD와 마찬가지로 immutable(변경불가) / df 건드리지 못하게 하기위해 Temporary View만듦.\n",
    "df.createOrReplaceTempView('stocks') # sql처리할 수 있는 view 만들기"
   ]
  },
  {
   "cell_type": "code",
   "execution_count": 23,
   "metadata": {},
   "outputs": [
    {
     "name": "stdout",
     "output_type": "stream",
     "text": [
      "+--------+\n",
      "|    name|\n",
      "+--------+\n",
      "|Alphabet|\n",
      "| Netflix|\n",
      "|  Amazon|\n",
      "|   Tesla|\n",
      "|    HUYA|\n",
      "| Tencent|\n",
      "|  Toyota|\n",
      "| Samsung|\n",
      "|   Kakao|\n",
      "|  Com2uS|\n",
      "+--------+\n",
      "\n"
     ]
    }
   ],
   "source": [
    "# [+] SELECT 문: 하나의 컬럼을 가져오기\n",
    "ss.sql(\"SELECT name FROM stocks\").show()\n",
    "# 문자열로 먼저 받아들임 / sql처리 후 새로운 dataframe으로 만들어준것\n",
    "# SELECT문법 = SELECT 뒤에 변수명(전체 가져오려면 *)과 가져올 곳"
   ]
  },
  {
   "cell_type": "code",
   "execution_count": 24,
   "metadata": {},
   "outputs": [
    {
     "name": "stdout",
     "output_type": "stream",
     "text": [
      "+--------+-------+\n",
      "|    name|  price|\n",
      "+--------+-------+\n",
      "|Alphabet|2282.19|\n",
      "| Netflix| 190.36|\n",
      "|  Amazon|2485.63|\n",
      "|   Tesla| 870.76|\n",
      "|    HUYA|   4.13|\n",
      "| Tencent|  377.4|\n",
      "|  Toyota| 2228.0|\n",
      "| Samsung|67300.0|\n",
      "|   Kakao|87300.0|\n",
      "|  Com2uS|95000.0|\n",
      "+--------+-------+\n",
      "\n"
     ]
    }
   ],
   "source": [
    "# [+] SELECT 문: 여러 개의 컬럼을 가져오기\n",
    "ss.sql(\"SELECT name, price From stocks\").show()"
   ]
  },
  {
   "cell_type": "code",
   "execution_count": 25,
   "metadata": {},
   "outputs": [
    {
     "name": "stdout",
     "output_type": "stream",
     "text": [
      "+-------+-------+\n",
      "|   name|country|\n",
      "+-------+-------+\n",
      "|Samsung|  Korea|\n",
      "|  Kakao|  Korea|\n",
      "| Com2uS|  Korea|\n",
      "+-------+-------+\n",
      "\n"
     ]
    }
   ],
   "source": [
    "# SELECT 문: WHERE 조건을 만족하는 데이터 선택하기\n",
    "# [+] 한국에 상장된 주식\n",
    "ss.sql(\"SELECT name, country from stocks WHERE country='Korea'\").show()"
   ]
  },
  {
   "cell_type": "code",
   "execution_count": 28,
   "metadata": {},
   "outputs": [
    {
     "name": "stdout",
     "output_type": "stream",
     "text": [
      "+--------+-------+\n",
      "|    name|  price|\n",
      "+--------+-------+\n",
      "|Alphabet|2282.19|\n",
      "|  Amazon|2485.63|\n",
      "|  Toyota| 2228.0|\n",
      "| Samsung|67300.0|\n",
      "|   Kakao|87300.0|\n",
      "|  Com2uS|95000.0|\n",
      "+--------+-------+\n",
      "\n"
     ]
    }
   ],
   "source": [
    "# [+] 주가 2000 이상의 주식\n",
    "ss.sql(\"SELECT name, price from stocks WHERE price >= 2000\").show() # 이건 ''로 안묶어도 ok?"
   ]
  },
  {
   "cell_type": "code",
   "execution_count": 33,
   "metadata": {},
   "outputs": [
    {
     "name": "stdout",
     "output_type": "stream",
     "text": [
      "+--------+-------+\n",
      "|    name|country|\n",
      "+--------+-------+\n",
      "|Alphabet|    USA|\n",
      "|  Amazon|    USA|\n",
      "+--------+-------+\n",
      "\n"
     ]
    }
   ],
   "source": [
    "# [+] 주가가 2000 이상인 미국 주식\n",
    "ss.sql(\"SELECT name, country FROM stocks WHERE price >= 2000 AND country='USA'\").show()\n",
    "# 앞에 불러오지 않아도 조건 달 수 있는 듯"
   ]
  },
  {
   "cell_type": "code",
   "execution_count": 36,
   "metadata": {},
   "outputs": [
    {
     "name": "stdout",
     "output_type": "stream",
     "text": [
      "+--------+-------+\n",
      "|    name|country|\n",
      "+--------+-------+\n",
      "|Alphabet|    USA|\n",
      "| Netflix|    USA|\n",
      "|  Amazon|    USA|\n",
      "|   Tesla|    USA|\n",
      "|    HUYA|    USA|\n",
      "+--------+-------+\n",
      "\n"
     ]
    }
   ],
   "source": [
    "# LIKE: 문자열 관련 처리할 때 유용\n",
    "# [+] 상장국가명이 'U'로 시작하는 주식\n",
    "ss.sql(\"SELECT name, country FROM stocks WHERE country LIKE 'U%'\").show()\n",
    "#  %는 U 다음뭐가 나와도 상관 X\n",
    "# %n하면  맨 마지막 n오는 데이터 나옴. => JAPAN나옴\n",
    "# %Hong%하면 Hong kong나옴"
   ]
  },
  {
   "cell_type": "code",
   "execution_count": 37,
   "metadata": {},
   "outputs": [
    {
     "name": "stdout",
     "output_type": "stream",
     "text": [
      "+------+-------+\n",
      "|  name|country|\n",
      "+------+-------+\n",
      "|Amazon|    USA|\n",
      "|  HUYA|    USA|\n",
      "+------+-------+\n",
      "\n"
     ]
    }
   ],
   "source": [
    "# NOT LIKE\n",
    "# [+] 상장국가명이 'U'로 시작하며, 회사명에 'e' 가 들어가지 않는 주식 \n",
    "ss.sql(\"SELECT name, country FROM stocks \\\n",
    "        WHERE country LIKE 'U%' AND name NOT LIKE '%e%'\").show()"
   ]
  },
  {
   "cell_type": "code",
   "execution_count": 39,
   "metadata": {},
   "outputs": [
    {
     "name": "stdout",
     "output_type": "stream",
     "text": [
      "+--------+-------+\n",
      "|    name|  price|\n",
      "+--------+-------+\n",
      "|Alphabet|2282.19|\n",
      "|  Amazon|2485.63|\n",
      "|  Toyota| 2228.0|\n",
      "+--------+-------+\n",
      "\n"
     ]
    }
   ],
   "source": [
    "# BETWEEN\n",
    "# [+] 주가가 1000~10000 사이인 주식\n",
    "ss.sql(\"SELECT name, price FROM stocks \\\n",
    "        WHERE price BETWEEN 1000 AND 10000\").show()"
   ]
  },
  {
   "cell_type": "code",
   "execution_count": 44,
   "metadata": {},
   "outputs": [
    {
     "name": "stdout",
     "output_type": "stream",
     "text": [
      "+--------+-------+\n",
      "|    name|  price|\n",
      "+--------+-------+\n",
      "|Alphabet|2282.19|\n",
      "|  Amazon|2485.63|\n",
      "+--------+-------+\n",
      "\n"
     ]
    }
   ],
   "source": [
    "# 중첩된 SQL 문\n",
    "# [+] 미국의 주식 중 Tesla 보다 주가가 높은 주식\n",
    "ss.sql(\"SELECT name, price FROM stocks \\\n",
    "        WHERE country='USA' \\\n",
    "        AND price > (SELECT price FROM stocks WHERE ticker='TSLA')\").show()\n",
    "\n",
    "# 연산자 우선순위때문에 소괄호로 먼저 묶어주기\n",
    "# ticker='TSLA'처럼 이름으로 가져오는 것은 위험함. 여러 중복된 결과 얻을 수 있으니까. 정확한 값 가져올 떈 unique한 값으로 불러오는게 좋음\n"
   ]
  },
  {
   "cell_type": "code",
   "execution_count": 46,
   "metadata": {},
   "outputs": [
    {
     "name": "stdout",
     "output_type": "stream",
     "text": [
      "+--------+-------+\n",
      "|    name|  price|\n",
      "+--------+-------+\n",
      "|    HUYA|   4.13|\n",
      "| Netflix| 190.36|\n",
      "| Tencent|  377.4|\n",
      "|   Tesla| 870.76|\n",
      "|  Toyota| 2228.0|\n",
      "|Alphabet|2282.19|\n",
      "|  Amazon|2485.63|\n",
      "| Samsung|67300.0|\n",
      "|   Kakao|87300.0|\n",
      "|  Com2uS|95000.0|\n",
      "+--------+-------+\n",
      "\n"
     ]
    }
   ],
   "source": [
    "# ORDER BY\n",
    "# [+] 주가를 기준으로 오름차순(ASC: Ascending) 정렬\n",
    "ss.sql(\"SELECT name, price FROM stocks ORDER BY price ASC\").show()"
   ]
  },
  {
   "cell_type": "code",
   "execution_count": 47,
   "metadata": {},
   "outputs": [
    {
     "name": "stdout",
     "output_type": "stream",
     "text": [
      "+--------+-------+\n",
      "|    name|  price|\n",
      "+--------+-------+\n",
      "|  Com2uS|95000.0|\n",
      "|   Kakao|87300.0|\n",
      "| Samsung|67300.0|\n",
      "|  Amazon|2485.63|\n",
      "|Alphabet|2282.19|\n",
      "|  Toyota| 2228.0|\n",
      "|   Tesla| 870.76|\n",
      "| Tencent|  377.4|\n",
      "| Netflix| 190.36|\n",
      "|    HUYA|   4.13|\n",
      "+--------+-------+\n",
      "\n"
     ]
    }
   ],
   "source": [
    "# [+] 내림차순(DESC: Descending) 정렬\n",
    "ss.sql(\"SELECT name, price FROM stocks ORDER BY price DESC\").show()"
   ]
  },
  {
   "cell_type": "code",
   "execution_count": 48,
   "metadata": {},
   "outputs": [
    {
     "name": "stdout",
     "output_type": "stream",
     "text": [
      "+----------+\n",
      "|sum(price)|\n",
      "+----------+\n",
      "|  249600.0|\n",
      "+----------+\n",
      "\n"
     ]
    }
   ],
   "source": [
    "# 집계연산\n",
    "# [+] 한국 주식의 주가 총합\n",
    "ss.sql(\"SELECT sum(price) FROM stocks \\\n",
    "        WHERE country = 'Korea'\").show()"
   ]
  },
  {
   "cell_type": "code",
   "execution_count": 49,
   "metadata": {},
   "outputs": [
    {
     "name": "stdout",
     "output_type": "stream",
     "text": [
      "+-----------+\n",
      "|mean(price)|\n",
      "+-----------+\n",
      "|    83200.0|\n",
      "+-----------+\n",
      "\n"
     ]
    }
   ],
   "source": [
    "# [+] 한국 주식의 주가 평균\n",
    "ss.sql(\"SELECT mean(price) FROM stocks \\\n",
    "        WHERE country = 'Korea'\").show()"
   ]
  },
  {
   "cell_type": "code",
   "execution_count": 50,
   "metadata": {},
   "outputs": [
    {
     "name": "stdout",
     "output_type": "stream",
     "text": [
      "+------------+\n",
      "|count(price)|\n",
      "+------------+\n",
      "|           3|\n",
      "+------------+\n",
      "\n"
     ]
    }
   ],
   "source": [
    "# [+] 한국 주식의 개수\n",
    "ss.sql(\"SELECT count(price) FROM stocks \\\n",
    "        WHERE country = 'Korea'\").show()"
   ]
  },
  {
   "cell_type": "code",
   "execution_count": 51,
   "metadata": {},
   "outputs": [
    {
     "name": "stdout",
     "output_type": "stream",
     "text": [
      "+-------+--------+\n",
      "|   name|currency|\n",
      "+-------+--------+\n",
      "| Toyota|     JPY|\n",
      "|Samsung|     KRW|\n",
      "|  Kakao|     KRW|\n",
      "| Com2uS|     KRW|\n",
      "+-------+--------+\n",
      "\n"
     ]
    }
   ],
   "source": [
    "# [+] IN => 하나의 조건에서 개별적인 여러 값 중에 하나라도 해당하면 select하는 키워드.\n",
    "# ex) 통화가 KRW 또는 JPY 주식 가져오기\n",
    "ss.sql(\"SELECT name, currency FROM stocks \\\n",
    "        WHERE currency IN ('KRW', 'JPY')\").show()\n",
    "\n",
    "# IN다음 소괄호에 조건들 작성하면 됨"
   ]
  },
  {
   "cell_type": "markdown",
   "metadata": {},
   "source": [
    "### 두 개의 데이터프레임을 이용한 SQL 문\n",
    "데이터베이스나 빅데이터 환경에서는 여러 개의 데이터 테이블들을 결합하여 query를 수행하는 경우가 빈번함\n",
    "SQL 문의 Join을 이용하여 stocks 와 earnings 데이터프레임을 결합하여 데이터 분석하기"
   ]
  },
  {
   "cell_type": "code",
   "execution_count": 53,
   "metadata": {},
   "outputs": [],
   "source": [
    "# earnings = EPS(earning per share): 주당 순이익, 전체 순이익을 전체 주식 수로 나눈 값\n",
    "\n",
    "earnings = [\n",
    "    ('Alphabet', 110.57, 'USD'), \n",
    "    ('Netflix', 10.46, 'USD'),\n",
    "    ('Amazon', 41.36, 'USD'),\n",
    "    ('Tesla', 7.4, 'USD'),\n",
    "    ('HUYA', 0.36, 'USD'),\n",
    "    ('Tencent', 27.6, 'HKD'),\n",
    "    ('Toyota', 221.35, 'JPY'),\n",
    "    ('Samsung', 5777.37, 'KRW'),\n",
    "    ('Kakao', 3150.95, 'KRW'),\n",
    "    ('Com2uS', 10852.69, 'KRW')\n",
    "]"
   ]
  },
  {
   "cell_type": "code",
   "execution_count": 54,
   "metadata": {},
   "outputs": [],
   "source": [
    "# [+] 스키마 정의에 필요한 클래스 임포트하기\n",
    "from pyspark.sql.types import StructType, StructField, StringType, FloatType\n",
    "# StructField는 변수에 대해 정의하는 것. 위에서는 변수 명만 써서 정의 했는데 제대로 하려면 StructField 하는 게 좋음. \n",
    "# 어떤 데이터 타입인지 정의해야함. 본 예제에서는 StringType, FloatType이면 됨"
   ]
  },
  {
   "cell_type": "code",
   "execution_count": 55,
   "metadata": {},
   "outputs": [],
   "source": [
    "# [+] 스키마 정의: 직접 데이터 타입 정하기\n",
    "earningsSchema = StructType([\n",
    "    StructField('name', StringType(), True), # 3번째 매개변수는 null 값 허용 -> true\n",
    "    StructField('eps', FloatType(), True),\n",
    "    StructField('currency', StringType(), True)\n",
    "])\n",
    "# 객체 만들 때 클래스명과 똑같이. => 객체지향 개념"
   ]
  },
  {
   "cell_type": "code",
   "execution_count": 56,
   "metadata": {},
   "outputs": [],
   "source": [
    "# [+] 데이터프레임 생성\n",
    "df_earnings = ss.createDataFrame(data=earnings, schema=earningsSchema)"
   ]
  },
  {
   "cell_type": "code",
   "execution_count": 58,
   "metadata": {},
   "outputs": [
    {
     "name": "stdout",
     "output_type": "stream",
     "text": [
      "root\n",
      " |-- name: string (nullable = true)\n",
      " |-- eps: float (nullable = true)\n",
      " |-- currency: string (nullable = true)\n",
      "\n",
      "+--------+--------+--------+\n",
      "|    name|     eps|currency|\n",
      "+--------+--------+--------+\n",
      "|Alphabet|  110.57|     USD|\n",
      "| Netflix|   10.46|     USD|\n",
      "|  Amazon|   41.36|     USD|\n",
      "|   Tesla|     7.4|     USD|\n",
      "|    HUYA|    0.36|     USD|\n",
      "| Tencent|    27.6|     HKD|\n",
      "|  Toyota|  221.35|     JPY|\n",
      "| Samsung| 5777.37|     KRW|\n",
      "|   Kakao| 3150.95|     KRW|\n",
      "|  Com2uS|10852.69|     KRW|\n",
      "+--------+--------+--------+\n",
      "\n"
     ]
    }
   ],
   "source": [
    "df_earnings.printSchema()\n",
    "df_earnings.show()"
   ]
  },
  {
   "cell_type": "code",
   "execution_count": 60,
   "metadata": {},
   "outputs": [],
   "source": [
    "# [+] earningDF의 Temporary View 생성\n",
    "df_earnings.createOrReplaceTempView('earnings')\n",
    "# 새로 만들거나 이전의 것이 있었으면 대체하겠다"
   ]
  },
  {
   "cell_type": "code",
   "execution_count": 61,
   "metadata": {},
   "outputs": [
    {
     "name": "stdout",
     "output_type": "stream",
     "text": [
      "+--------+--------+--------+\n",
      "|    name|     eps|currency|\n",
      "+--------+--------+--------+\n",
      "|Alphabet|  110.57|     USD|\n",
      "| Netflix|   10.46|     USD|\n",
      "|  Amazon|   41.36|     USD|\n",
      "|   Tesla|     7.4|     USD|\n",
      "|    HUYA|    0.36|     USD|\n",
      "| Tencent|    27.6|     HKD|\n",
      "|  Toyota|  221.35|     JPY|\n",
      "| Samsung| 5777.37|     KRW|\n",
      "|   Kakao| 3150.95|     KRW|\n",
      "|  Com2uS|10852.69|     KRW|\n",
      "+--------+--------+--------+\n",
      "\n"
     ]
    }
   ],
   "source": [
    "# [+] 함수 형태로 query 수행하기, 예: select()\n",
    "ss.sql(\"SELECT * FROM earnings\").show()\n",
    "# df_earnings.select('*').show() => select를 메서드 형태로 처리할 수도 있음 / 참고"
   ]
  },
  {
   "cell_type": "code",
   "execution_count": 63,
   "metadata": {},
   "outputs": [
    {
     "name": "stdout",
     "output_type": "stream",
     "text": [
      "+--------+------+---------+-------+--------+--------+--------+--------+\n",
      "|    name|ticker|  country|  price|currency|    name|     eps|currency|\n",
      "+--------+------+---------+-------+--------+--------+--------+--------+\n",
      "|Alphabet| GOOGL|      USA|2282.19|     USD|Alphabet|  110.57|     USD|\n",
      "|  Amazon|  AMZN|      USA|2485.63|     USD|  Amazon|   41.36|     USD|\n",
      "|  Com2uS|078340|    Korea|95000.0|     KRW|  Com2uS|10852.69|     KRW|\n",
      "|    HUYA|  HUYA|      USA|   4.13|     USD|    HUYA|    0.36|     USD|\n",
      "|   Kakao|035720|    Korea|87300.0|     KRW|   Kakao| 3150.95|     KRW|\n",
      "| Netflix|  NFLX|      USA| 190.36|     USD| Netflix|   10.46|     USD|\n",
      "| Samsung|005930|    Korea|67300.0|     KRW| Samsung| 5777.37|     KRW|\n",
      "| Tencent|  0700|Hong Kong|  377.4|     HKD| Tencent|    27.6|     HKD|\n",
      "|   Tesla|  TSLA|      USA| 870.76|     USD|   Tesla|     7.4|     USD|\n",
      "|  Toyota|  7203|    Japan| 2228.0|     JPY|  Toyota|  221.35|     JPY|\n",
      "+--------+------+---------+-------+--------+--------+--------+--------+\n",
      "\n"
     ]
    }
   ],
   "source": [
    "# [+] Inner join 수행 -> stocks기준으로 earnings와 합침\n",
    "ss.sql(\"SELECT * FROM stocks JOIN earnings ON stocks.name = earnings.name\").show() \n",
    "# 어떤 기준으로 JOIN할건지 ON 키워드 뒤에 명시해야함"
   ]
  },
  {
   "cell_type": "code",
   "execution_count": 66,
   "metadata": {},
   "outputs": [
    {
     "name": "stdout",
     "output_type": "stream",
     "text": [
      "+--------+------------------+\n",
      "|    name|     (price / eps)|\n",
      "+--------+------------------+\n",
      "|  Com2uS|  8.75358977716049|\n",
      "|  Toyota|10.065506837881282|\n",
      "|    HUYA|11.472221766357087|\n",
      "| Samsung|11.648898830245365|\n",
      "| Tencent|13.673912854486094|\n",
      "| Netflix| 18.19885270609645|\n",
      "|Alphabet| 20.64022796688883|\n",
      "|   Kakao|27.705930386971747|\n",
      "|  Amazon|60.097436250469926|\n",
      "|   Tesla|117.67026875379577|\n",
      "+--------+------------------+\n",
      "\n"
     ]
    }
   ],
   "source": [
    "# PER (Price/Earnings Ratio): 주가를 EPS로 나눈 값\n",
    "# [+] PER 기준으로 가장 저평가된 주식 찾기\n",
    "# 일반적으로 같은 부류의 종목끼리 비교하는데 위 표에서의 eps는 그게 불가능. 그래서 PER사용\n",
    "# JOIN연산할 떄는 어떤 df의 변수인지 명시해야함. 그냥 (price / eps)하면 안됨\n",
    "ss.sql(\"SELECT stocks.name, (stocks.price / earnings.eps) \\\n",
    "        FROM stocks JOIN earnings ON stocks.name = earnings.name \\\n",
    "        ORDER BY (stocks.price / earnings.eps)\").show()\n",
    "\n",
    "# 10 이하를 저평가된 주가라고 함."
   ]
  },
  {
   "cell_type": "code",
   "execution_count": null,
   "metadata": {},
   "outputs": [],
   "source": [
    "# 구조화된 데이터 처리할 떄 이렇게 편하게 할 수 있음(RDD로했으면 더 어려웠을 것)"
   ]
  }
 ],
 "metadata": {
  "kernelspec": {
   "display_name": "Python 3",
   "language": "python",
   "name": "python3"
  },
  "language_info": {
   "codemirror_mode": {
    "name": "ipython",
    "version": 3
   },
   "file_extension": ".py",
   "mimetype": "text/x-python",
   "name": "python",
   "nbconvert_exporter": "python",
   "pygments_lexer": "ipython3",
   "version": "3.8.5"
  }
 },
 "nbformat": 4,
 "nbformat_minor": 4
}
