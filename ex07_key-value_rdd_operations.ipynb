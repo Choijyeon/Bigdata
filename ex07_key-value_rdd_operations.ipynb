{
 "cells": [
  {
   "cell_type": "code",
   "execution_count": 5,
   "metadata": {},
   "outputs": [],
   "source": [
    "# [+] PySpark 임포트 및 설정\n",
    "from pyspark import SparkConf, SparkContext\n",
    "\n",
    "conf = SparkConf().setMaster('local').setAppName('key-value-rdd-operations')\n",
    "sc = SparkContext(conf=conf)"
   ]
  },
  {
   "cell_type": "code",
   "execution_count": 7,
   "metadata": {},
   "outputs": [],
   "source": [
    "\"\"\"\n",
    "    groupBy(f): 입력 함수를 기준으로 그룹핑\n",
    "    - [+] 리스트로부터 rdd 생성\n",
    "    - 리스트: [1, 1, 2, 3, 5, 8]\n",
    "\"\"\" \n",
    "\n",
    "rdd = sc.parallelize([1, 1, 2, 3, 5, 8])"
   ]
  },
  {
   "cell_type": "code",
   "execution_count": 8,
   "metadata": {},
   "outputs": [
    {
     "name": "stdout",
     "output_type": "stream",
     "text": [
      "1 [1, 1, 3, 5]\n",
      "0 [2, 8]\n"
     ]
    }
   ],
   "source": [
    "# [+] groupBy() 를 이용한 홀수/짝수 그룹핑\n",
    "\n",
    "groups = rdd.groupBy(lambda x: x % 2).collect()\n",
    "\n",
    "# 주의! .collect()안하고 for문 돌릴 수 없음. collect() 해서 파이썬 객체로 만들어야함\n",
    "\n",
    "for k, v in groups:\n",
    "    print(k, list(v))"
   ]
  },
  {
   "cell_type": "code",
   "execution_count": 9,
   "metadata": {},
   "outputs": [
    {
     "data": {
      "text/plain": [
       "[('a', 1), ('b', 1), ('a', 1)]"
      ]
     },
     "execution_count": 9,
     "metadata": {},
     "output_type": "execute_result"
    }
   ],
   "source": [
    "\"\"\"\n",
    "    groupByKey(): Key 값을 기준으로 그룹핑\n",
    "    - [+] 리스트로부터 key-value rdd 생성\n",
    "    - 리스트: [('a', 1), ('b', 1), ('a', 1)]\n",
    "\"\"\"\n",
    "rdd = sc.parallelize([('a', 1), ('b', 1), ('a', 1)])\n",
    "rdd.collect()"
   ]
  },
  {
   "cell_type": "code",
   "execution_count": 10,
   "metadata": {},
   "outputs": [
    {
     "data": {
      "text/plain": [
       "[('a', <pyspark.resultiterable.ResultIterable at 0x1e6ed61a700>),\n",
       " ('b', <pyspark.resultiterable.ResultIterable at 0x1e6ed62f070>)]"
      ]
     },
     "execution_count": 10,
     "metadata": {},
     "output_type": "execute_result"
    }
   ],
   "source": [
    "# [+] groupByKey() 를 이용한 그룹핑\n",
    "groups = rdd.groupByKey()\n",
    "groups.collect()"
   ]
  },
  {
   "cell_type": "code",
   "execution_count": 11,
   "metadata": {},
   "outputs": [
    {
     "name": "stdout",
     "output_type": "stream",
     "text": [
      "a [1, 1]\n",
      "b [1]\n"
     ]
    }
   ],
   "source": [
    "for k, v in groups.collect():\n",
    "    print(k, list(v))"
   ]
  },
  {
   "cell_type": "code",
   "execution_count": 12,
   "metadata": {},
   "outputs": [
    {
     "data": {
      "text/plain": [
       "2"
      ]
     },
     "execution_count": 12,
     "metadata": {},
     "output_type": "execute_result"
    }
   ],
   "source": [
    "# len(): Python 객체의 길이를 리턴\n",
    "value = [1, 1]\n",
    "len(value)"
   ]
  },
  {
   "cell_type": "code",
   "execution_count": 13,
   "metadata": {},
   "outputs": [
    {
     "data": {
      "text/plain": [
       "[('a', 2), ('b', 1)]"
      ]
     },
     "execution_count": 13,
     "metadata": {},
     "output_type": "execute_result"
    }
   ],
   "source": [
    "# 그룹 별 원소 개수 계산\n",
    "counts = groups.mapValues(len)\n",
    "counts.collect()"
   ]
  },
  {
   "cell_type": "code",
   "execution_count": 19,
   "metadata": {},
   "outputs": [],
   "source": [
    "\"\"\"\n",
    "    [+] groupBy() 예제\n",
    "    - 리스트로부터 RDD 객체 생성\n",
    "    - 리스트: ['C', 'C++', 'Python', 'Java', 'C#']\n",
    "    - 원소의 첫 번째 문자 값을 기준으로 그룹핑\n",
    "    - 기대 결과:\n",
    "        J ['Java']\n",
    "        C ['C', 'C++', 'C#']\n",
    "        P ['Python']\n",
    "    - 그룹핑 결과를 리스트 객체로 출력\n",
    "\"\"\"\n",
    "\n",
    "groups = sc.parallelize(['C', 'C++', 'Python', 'Java', 'C#']).groupBy(lambda x: x[0]).collect()"
   ]
  },
  {
   "cell_type": "code",
   "execution_count": 20,
   "metadata": {},
   "outputs": [
    {
     "name": "stdout",
     "output_type": "stream",
     "text": [
      "C ['C', 'C++', 'C#']\n",
      "P ['Python']\n",
      "J ['Java']\n"
     ]
    }
   ],
   "source": [
    "for k, v in groups:\n",
    "    print(k, list(v))"
   ]
  },
  {
   "cell_type": "code",
   "execution_count": 21,
   "metadata": {},
   "outputs": [],
   "source": [
    "\"\"\"\n",
    "    groupByKey() 예제\n",
    "\"\"\"\n",
    "\n",
    "# list 객체로부터 3개의 파티션을 갖는 Key-Value RDD 생성하기\n",
    "rdd = sc.parallelize([  # 과목 별 점수 데이터\n",
    "    ('Math', 7), ('Math', 2), ('English', 7),\n",
    "    ('Science', 7), ('English', 4), ('English', 9),\n",
    "    ('Math', 8), ('Math', 3), ('English', 4),\n",
    "    ('Science', 6), ('Science', 9), ('Science', 5)\n",
    "], 3)"
   ]
  },
  {
   "cell_type": "code",
   "execution_count": 22,
   "metadata": {
    "scrolled": true
   },
   "outputs": [
    {
     "data": {
      "text/plain": [
       "3"
      ]
     },
     "execution_count": 22,
     "metadata": {},
     "output_type": "execute_result"
    }
   ],
   "source": [
    "# getNumPartitions(): RDD 객체의 파티션 수 확인하는 Actions\n",
    "rdd.getNumPartitions()"
   ]
  },
  {
   "cell_type": "code",
   "execution_count": 29,
   "metadata": {},
   "outputs": [
    {
     "data": {
      "text/plain": [
       "[('Science', <pyspark.resultiterable.ResultIterable at 0x1e6ed62f7f0>),\n",
       " ('Math', <pyspark.resultiterable.ResultIterable at 0x1e6ed6b2160>),\n",
       " ('English', <pyspark.resultiterable.ResultIterable at 0x1e6ed6b26a0>)]"
      ]
     },
     "execution_count": 29,
     "metadata": {},
     "output_type": "execute_result"
    }
   ],
   "source": [
    "# [+] Key 별로 그룹핑 및 결과 확인\n",
    "groups = rdd.groupByKey()\n",
    "groups.collect()"
   ]
  },
  {
   "cell_type": "code",
   "execution_count": 30,
   "metadata": {},
   "outputs": [
    {
     "name": "stdout",
     "output_type": "stream",
     "text": [
      "Science [7, 6, 9, 5]\n",
      "Math [7, 2, 8, 3]\n",
      "English [7, 4, 9, 4]\n"
     ]
    }
   ],
   "source": [
    "# [+] for 문을 통한 그룹핑 결과 출력\n",
    "for k, v in groups.collect():\n",
    "    print(k, list(v))"
   ]
  },
  {
   "cell_type": "code",
   "execution_count": 32,
   "metadata": {},
   "outputs": [
    {
     "data": {
      "text/plain": [
       "2"
      ]
     },
     "execution_count": 32,
     "metadata": {},
     "output_type": "execute_result"
    }
   ],
   "source": [
    "# 2개의 파티션으로 나누어 키 별로 그룹핑 및 결과 확인 -> 중간 연산 시에도 파티션 수 바꿀 수 있음.\n",
    "rdd.groupByKey(2).getNumPartitions()"
   ]
  },
  {
   "cell_type": "code",
   "execution_count": 33,
   "metadata": {},
   "outputs": [
    {
     "data": {
      "text/plain": [
       "15"
      ]
     },
     "execution_count": 33,
     "metadata": {},
     "output_type": "execute_result"
    }
   ],
   "source": [
    "\"\"\"\n",
    "    reduce() vs reduceByKey()\n",
    "\n",
    "\"\"\"\n",
    "\n",
    "# [+] reduce() 를 이용한 총합 구하기\n",
    "sc.parallelize([1, 2, 3, 4, 5]).reduce(lambda x, y: x + y)"
   ]
  },
  {
   "cell_type": "code",
   "execution_count": 34,
   "metadata": {},
   "outputs": [
    {
     "data": {
      "text/plain": [
       "[('a', 2), ('b', 1)]"
      ]
     },
     "execution_count": 34,
     "metadata": {},
     "output_type": "execute_result"
    }
   ],
   "source": [
    "rdd = sc.parallelize([('a', 1), ('b', 1), ('a', 1)])\n",
    "\n",
    "# [+] reduceByKey() 를 이용한 Key 별 총합 구하기\n",
    "rdd.reduceByKey(lambda x, y: x + y).collect()"
   ]
  },
  {
   "cell_type": "code",
   "execution_count": 35,
   "metadata": {},
   "outputs": [],
   "source": [
    "# 과목 별 점수 데이터\n",
    "rdd = sc.parallelize([\n",
    "    ('Math', 7), ('Math', 2), ('English', 7),\n",
    "    ('Science', 7), ('English', 4), ('English', 9),\n",
    "    ('Math', 8), ('Math', 3), ('English', 4),\n",
    "    ('Science', 6), ('Science', 9), ('Science', 5)\n",
    "], 3)"
   ]
  },
  {
   "cell_type": "code",
   "execution_count": 36,
   "metadata": {},
   "outputs": [
    {
     "data": {
      "text/plain": [
       "[('Science', 27), ('Math', 20), ('English', 24)]"
      ]
     },
     "execution_count": 36,
     "metadata": {},
     "output_type": "execute_result"
    }
   ],
   "source": [
    "# reduceByKey() 를 이용한 과목 별 점수 총합 구하기\n",
    "rdd.reduceByKey(lambda x, y: x + y).collect()"
   ]
  },
  {
   "cell_type": "code",
   "execution_count": 37,
   "metadata": {},
   "outputs": [
    {
     "data": {
      "text/plain": [
       "[('a', 3), ('b', 1)]"
      ]
     },
     "execution_count": 37,
     "metadata": {},
     "output_type": "execute_result"
    }
   ],
   "source": [
    "\"\"\"\n",
    "    mapValues() vs map()\n",
    "\"\"\"\n",
    "# mapValues(): value 에만 함수를 적용\n",
    "\n",
    "rdd = sc.parallelize([\n",
    "    ('a', ['apple', 'banana', 'lemon']),\n",
    "    ('b', ['grapes'])\n",
    "])\n",
    "\n",
    "rdd.mapValues(len).collect()"
   ]
  },
  {
   "cell_type": "code",
   "execution_count": 38,
   "metadata": {},
   "outputs": [
    {
     "data": {
      "text/plain": [
       "[2, 2]"
      ]
     },
     "execution_count": 38,
     "metadata": {},
     "output_type": "execute_result"
    }
   ],
   "source": [
    "# map(): key, value 에 함수를 적용\n",
    "rdd.map(len).collect()  # 결과가 mapValues()와 다른 이유는?"
   ]
  },
  {
   "cell_type": "code",
   "execution_count": 39,
   "metadata": {},
   "outputs": [
    {
     "data": {
      "text/plain": [
       "defaultdict(int, {'a': 2, 'b': 1})"
      ]
     },
     "execution_count": 39,
     "metadata": {},
     "output_type": "execute_result"
    }
   ],
   "source": [
    "\"\"\"\n",
    "    countByKey(): Key 별 원소 개수를 계산\n",
    "\"\"\"\n",
    "\n",
    "rdd = sc.parallelize([\n",
    "    ('a', 1), ('b', 1), ('a', 1)\n",
    "])\n",
    "\n",
    "rdd.countByKey()"
   ]
  },
  {
   "cell_type": "code",
   "execution_count": 40,
   "metadata": {},
   "outputs": [
    {
     "data": {
      "text/plain": [
       "['Math',\n",
       " 'Math',\n",
       " 'English',\n",
       " 'Science',\n",
       " 'English',\n",
       " 'English',\n",
       " 'Math',\n",
       " 'Math',\n",
       " 'English',\n",
       " 'Science',\n",
       " 'Science',\n",
       " 'Science']"
      ]
     },
     "execution_count": 40,
     "metadata": {},
     "output_type": "execute_result"
    }
   ],
   "source": [
    "\"\"\"\n",
    "    keys(): key 값으로 구성된 RDD 생성(transformation)\n",
    "\"\"\"\n",
    "\n",
    "# 과목 별 점수 데이터\n",
    "rdd = sc.parallelize([\n",
    "    ('Math', 7), ('Math', 2), ('English', 7),\n",
    "    ('Science', 7), ('English', 4), ('English', 9),\n",
    "    ('Math', 8), ('Math', 3), ('English', 4),\n",
    "    ('Science', 6), ('Science', 9), ('Science', 5)\n",
    "], 3)\n",
    "\n",
    "rdd.keys().collect()"
   ]
  },
  {
   "cell_type": "code",
   "execution_count": 44,
   "metadata": {},
   "outputs": [
    {
     "data": {
      "text/plain": [
       "3"
      ]
     },
     "execution_count": 44,
     "metadata": {},
     "output_type": "execute_result"
    }
   ],
   "source": [
    "# [+] 유니크한 키 개수 출력\n",
    "rdd.keys().distinct().count()"
   ]
  },
  {
   "cell_type": "code",
   "execution_count": 43,
   "metadata": {},
   "outputs": [
    {
     "data": {
      "text/plain": [
       "['Science', 'Math', 'English']"
      ]
     },
     "execution_count": 43,
     "metadata": {},
     "output_type": "execute_result"
    }
   ],
   "source": [
    "# [+] 유니크한 키 값 출력\n",
    "rdd.keys().distinct().collect()"
   ]
  },
  {
   "cell_type": "code",
   "execution_count": 46,
   "metadata": {},
   "outputs": [],
   "source": [
    "\"\"\"\n",
    "    Join 연산\n",
    "    - join(): 내부조인\n",
    "    - leftOuterJoin(): 외부조인(첫 번째 RDD 중심)\n",
    "    - rightOuterJoin(): 외부조인(두 번째 RDD 중심)\n",
    "\"\"\"\n",
    "\n",
    "rdd1 = sc.parallelize([(\"a\", 1), (\"b\", 4)])\n",
    "rdd2 = sc.parallelize([(\"a\", 2)])"
   ]
  },
  {
   "cell_type": "code",
   "execution_count": 47,
   "metadata": {},
   "outputs": [
    {
     "data": {
      "text/plain": [
       "[('a', (1, 2))]"
      ]
     },
     "execution_count": 47,
     "metadata": {},
     "output_type": "execute_result"
    }
   ],
   "source": [
    "rdd1.join(rdd2).collect() # join(): Inner Join(두 RDD의 교집합)"
   ]
  },
  {
   "cell_type": "code",
   "execution_count": 48,
   "metadata": {},
   "outputs": [
    {
     "data": {
      "text/plain": [
       "[('b', (4, None)), ('a', (1, 2))]"
      ]
     },
     "execution_count": 48,
     "metadata": {},
     "output_type": "execute_result"
    }
   ],
   "source": [
    "rdd1.leftOuterJoin(rdd2).collect()"
   ]
  },
  {
   "cell_type": "code",
   "execution_count": 49,
   "metadata": {},
   "outputs": [
    {
     "data": {
      "text/plain": [
       "[('a', (1, 2))]"
      ]
     },
     "execution_count": 49,
     "metadata": {},
     "output_type": "execute_result"
    }
   ],
   "source": [
    "rdd1.rightOuterJoin(rdd2).collect()"
   ]
  }
 ],
 "metadata": {
  "kernelspec": {
   "display_name": "Python 3",
   "language": "python",
   "name": "python3"
  },
  "language_info": {
   "codemirror_mode": {
    "name": "ipython",
    "version": 3
   },
   "file_extension": ".py",
   "mimetype": "text/x-python",
   "name": "python",
   "nbconvert_exporter": "python",
   "pygments_lexer": "ipython3",
   "version": "3.8.5"
  }
 },
 "nbformat": 4,
 "nbformat_minor": 4
}
