{
 "cells": [
  {
   "cell_type": "markdown",
   "metadata": {},
   "source": [
    "## Spark 설정하기\n",
    "1. SparkConf, SparkContext, pandas 임포트\n",
    "2. SparkConf 객체 생성 및 설정\n",
    "3. SparkContext 객체 생성"
   ]
  },
  {
   "cell_type": "code",
   "execution_count": 1,
   "metadata": {},
   "outputs": [],
   "source": [
    "from pyspark import SparkConf, SparkContext\n",
    "import pandas as pd"
   ]
  },
  {
   "cell_type": "code",
   "execution_count": 2,
   "metadata": {},
   "outputs": [],
   "source": [
    "conf = SparkConf().setMaster('local').setAppName('key-value-rdd') \n",
    "\n",
    "# SparkConf객체 생성"
   ]
  },
  {
   "cell_type": "markdown",
   "metadata": {},
   "source": [
    "SparkConf객체 생성\n",
    "- SparkConf 객체 : Spark 실행할 때 옵션 정보들 저장하는 객체  \n",
    "- SparkConf() : Constructor라는 클래스의 객체 생성 메서드. 클래스 사용 위해서는 항상 객체를 생성하는 Constructor method를 선언해줘야함.\n",
    "- 객체가 만들어지고 메모리에 존재하기 위해서는 변수를 만들어 저장해야함.\n",
    "- setMaster옵션: 기본적으로 설정해야함(Master노드를 결정하는 것) / 현재는 하나의 pc로 하기 때문에 local로 설정(현재 pc)  \n",
    "- setAppName: Spark 어플리케이션의 이름 설정"
   ]
  },
  {
   "cell_type": "code",
   "execution_count": 3,
   "metadata": {},
   "outputs": [],
   "source": [
    "sc = SparkContext(conf=conf)"
   ]
  },
  {
   "cell_type": "markdown",
   "metadata": {},
   "source": [
    "- 생성한 SparkConf객체를 SpartContext객체 생성할 때 인자로 넣어줌.  \n",
    "- conf라는 parameter는 필수로 넣어줘야하고 인자값으로 conf객체 넣어주기  \n",
    "- SparkContext를 일반적으로 sc라고 함  "
   ]
  },
  {
   "cell_type": "code",
   "execution_count": 4,
   "metadata": {},
   "outputs": [
    {
     "data": {
      "text/html": [
       "\n",
       "        <div>\n",
       "            <p><b>SparkContext</b></p>\n",
       "\n",
       "            <p><a href=\"http://LAPTOP-K5S3UUQF:4040\">Spark UI</a></p>\n",
       "\n",
       "            <dl>\n",
       "              <dt>Version</dt>\n",
       "                <dd><code>v3.2.1</code></dd>\n",
       "              <dt>Master</dt>\n",
       "                <dd><code>local</code></dd>\n",
       "              <dt>AppName</dt>\n",
       "                <dd><code>key-value-rdd</code></dd>\n",
       "            </dl>\n",
       "        </div>\n",
       "        "
      ],
      "text/plain": [
       "<SparkContext master=local appName=key-value-rdd>"
      ]
     },
     "execution_count": 4,
     "metadata": {},
     "output_type": "execute_result"
    }
   ],
   "source": [
    "sc \n",
    "# sparkContext에 대한 주요 내용들 나옴\n",
    "# Spark UI누르면 모니터링으로 넘어감. \n",
    "# shift누르고 가면 새 탭 열면서 실시간으로 보여줌(안누르면 jupyter화면 그대로 넘어감)"
   ]
  },
  {
   "cell_type": "markdown",
   "metadata": {},
   "source": [
    "## Key-Value RDD 연산 예제\n",
    "1. Python LIst로부터 RDD 객체 생성: SparkContext.parallelize() \n",
    "    => 간단한 데이터를 즉석에서 정의해서 RDD로 만들 때 사용하는 방법임.\n",
    "2. Single Value RDD에서 Key-Value RDD로 변환: RDD.map()\n",
    "3. Key-Value RDD 값 세기: RDD.reduceByKey()\n",
    "\n",
    "지난 시간엔 RDD 생성할 땐 textFile()로 csv 파일 읽어서 RDD생성했었음. 이번에는 python list로부터 생성"
   ]
  },
  {
   "cell_type": "code",
   "execution_count": 5,
   "metadata": {},
   "outputs": [],
   "source": [
    "# 1. RDD 객체 생성\n",
    "rdd = sc.parallelize([\n",
    "    '2020-03-01', '2020-03-01', '2020-03-01',\n",
    "    '2020-03-02',\n",
    "    '2020-03-03', '2020-03-03'\n",
    "])"
   ]
  },
  {
   "cell_type": "code",
   "execution_count": 7,
   "metadata": {},
   "outputs": [
    {
     "data": {
      "text/plain": [
       "['2020-03-01',\n",
       " '2020-03-01',\n",
       " '2020-03-01',\n",
       " '2020-03-02',\n",
       " '2020-03-03',\n",
       " '2020-03-03']"
      ]
     },
     "execution_count": 7,
     "metadata": {},
     "output_type": "execute_result"
    }
   ],
   "source": [
    "rdd.collect() # collect(): RDD 원소를 출력하는 action함수 -> 개발 단계에서 사용"
   ]
  },
  {
   "cell_type": "code",
   "execution_count": 9,
   "metadata": {},
   "outputs": [],
   "source": [
    "# 2. Key-Value RDD로 변환\n",
    "pairs = rdd.map(lambda x: (x, 1))"
   ]
  },
  {
   "cell_type": "code",
   "execution_count": 10,
   "metadata": {},
   "outputs": [
    {
     "data": {
      "text/plain": [
       "[('2020-03-01', 1),\n",
       " ('2020-03-01', 1),\n",
       " ('2020-03-01', 1),\n",
       " ('2020-03-02', 1),\n",
       " ('2020-03-03', 1),\n",
       " ('2020-03-03', 1)]"
      ]
     },
     "execution_count": 10,
     "metadata": {},
     "output_type": "execute_result"
    }
   ],
   "source": [
    "pairs.collect()"
   ]
  },
  {
   "cell_type": "code",
   "execution_count": 11,
   "metadata": {},
   "outputs": [],
   "source": [
    "# 3. Key-Value RDD 값 세기\n",
    "reduced = pairs.reduceByKey(lambda x, y : x + y)"
   ]
  },
  {
   "cell_type": "code",
   "execution_count": 12,
   "metadata": {},
   "outputs": [
    {
     "data": {
      "text/plain": [
       "[('2020-03-01', 3), ('2020-03-02', 1), ('2020-03-03', 2)]"
      ]
     },
     "execution_count": 12,
     "metadata": {},
     "output_type": "execute_result"
    }
   ],
   "source": [
    "reduced.collect()"
   ]
  },
  {
   "cell_type": "markdown",
   "metadata": {},
   "source": [
    "## Restaurant 예제\n",
    ":식당 유형 별 평균 리뷰 수를 계산  \n",
    "-> 식당 유형이 반드시 key로 있어야함\n",
    "-> 평균 리뷰수에는 총 리뷰수가 필요. 전체를 각 개수로 나눠야하니까\n",
    "\n",
    "1. csv 파일로부터 RDD 생성: SparkContext.textFile()\n",
    "2. RDD 헤더 부분 변수에 저장: RDD.first()\n",
    "3. 헤더만 제거된 RDD로 변환: RDD.filter(lambda...)\n",
    "4. category와 reviews 값을 추출하는 함수 정의\n",
    "5. category, review로 구성된 RDD로 변환: RDD.map()\n",
    "6. Key: category, Value: (reviews, 1)로 구성된 Key-Value RDD로 변환: RDD.mapValues()\n",
    "7. Key를 기준으로 reduction: RDD.reduceByKey()\n",
    "8. Key별 평균 reviews 계산: RDD.mapValues()"
   ]
  },
  {
   "cell_type": "code",
   "execution_count": 13,
   "metadata": {},
   "outputs": [],
   "source": [
    "# 1. RDD생성\n",
    "filename = \"restaurant_reviews.csv\"\n",
    "lines = sc.textFile('./data/' + filename) # ./ : 상대경로, 현재 실행중인 파일이 위치한 디렉토리"
   ]
  },
  {
   "cell_type": "code",
   "execution_count": 14,
   "metadata": {},
   "outputs": [
    {
     "data": {
      "text/plain": [
       "'./data/restaurant_reviews.csv'"
      ]
     },
     "execution_count": 14,
     "metadata": {},
     "output_type": "execute_result"
    }
   ],
   "source": [
    "'./data/' + filename"
   ]
  },
  {
   "cell_type": "code",
   "execution_count": 15,
   "metadata": {},
   "outputs": [
    {
     "data": {
      "text/plain": [
       "['id,item,cateogry,reviews',\n",
       " '0,짜장면,중식,125',\n",
       " '1,짬뽕,중식,235',\n",
       " '2,김밥,분식,32',\n",
       " '3,떡볶이,분식,534',\n",
       " '4,라멘,일식,223',\n",
       " '5,돈가스,일식,52',\n",
       " '6,우동,일식,12',\n",
       " '7,쌀국수,아시안,312',\n",
       " '8,햄버거,패스트푸드,12',\n",
       " '9,치킨,패스트푸드,23']"
      ]
     },
     "execution_count": 15,
     "metadata": {},
     "output_type": "execute_result"
    }
   ],
   "source": [
    "lines.collect() # 주의! RDD 데이터가 클 경우 자제 => 실행시간이 굉장히 오래 걸림"
   ]
  },
  {
   "cell_type": "code",
   "execution_count": 21,
   "metadata": {},
   "outputs": [],
   "source": [
    "# 2. header 구한 다음 뗴주기\n",
    "header = lines.first() # 첫 번째 원소 => header 떼주기(데이터 분석할 때 header가 필요한게 아니니까)"
   ]
  },
  {
   "cell_type": "code",
   "execution_count": 22,
   "metadata": {},
   "outputs": [
    {
     "data": {
      "text/plain": [
       "'id,item,cateogry,reviews'"
      ]
     },
     "execution_count": 22,
     "metadata": {},
     "output_type": "execute_result"
    }
   ],
   "source": [
    "header"
   ]
  },
  {
   "cell_type": "code",
   "execution_count": 23,
   "metadata": {},
   "outputs": [],
   "source": [
    "# header 제외한 나머지 줄들을 뽑아오는 것이 filter연산\n",
    "filtered_lines = lines.filter(lambda x: x != header)"
   ]
  },
  {
   "cell_type": "code",
   "execution_count": 24,
   "metadata": {},
   "outputs": [
    {
     "data": {
      "text/plain": [
       "['0,짜장면,중식,125',\n",
       " '1,짬뽕,중식,235',\n",
       " '2,김밥,분식,32',\n",
       " '3,떡볶이,분식,534',\n",
       " '4,라멘,일식,223',\n",
       " '5,돈가스,일식,52',\n",
       " '6,우동,일식,12',\n",
       " '7,쌀국수,아시안,312',\n",
       " '8,햄버거,패스트푸드,12',\n",
       " '9,치킨,패스트푸드,23']"
      ]
     },
     "execution_count": 24,
     "metadata": {},
     "output_type": "execute_result"
    }
   ],
   "source": [
    "filtered_lines.collect()"
   ]
  },
  {
   "cell_type": "code",
   "execution_count": 25,
   "metadata": {},
   "outputs": [],
   "source": [
    "# 4. category, reviewr 값을 추출하는 함수 정의\n",
    "\n",
    "def parse(row):\n",
    "    # '0',짜장면,중식,125' -> 4개의 값이 아니라 하나의 문자열임. 각각 쪼개서 값으로 만들어야함.\n",
    "    fields = row.split(',') # 값 쪼갬\n",
    "    category = fields[2]\n",
    "    reviews = int(fields[3]) # '125' -> 125\n",
    "    return (category, reviews) # 묶어서 pair형태로 출력\n",
    "    \n",
    "# 전체 한 줄에서 식당 유형과 리뷰수만 따로 빼는 함수 만들기"
   ]
  },
  {
   "cell_type": "code",
   "execution_count": 27,
   "metadata": {},
   "outputs": [],
   "source": [
    "# 5, category, review로 구성된 RDD로 변환: RDD.map()\n",
    "category_reviews = filtered_lines.map(parse) # parse함수 정의했으니까 lambda 말고 parse"
   ]
  },
  {
   "cell_type": "code",
   "execution_count": 28,
   "metadata": {},
   "outputs": [
    {
     "data": {
      "text/plain": [
       "[('중식', 125),\n",
       " ('중식', 235),\n",
       " ('분식', 32),\n",
       " ('분식', 534),\n",
       " ('일식', 223),\n",
       " ('일식', 52),\n",
       " ('일식', 12),\n",
       " ('아시안', 312),\n",
       " ('패스트푸드', 12),\n",
       " ('패스트푸드', 23)]"
      ]
     },
     "execution_count": 28,
     "metadata": {},
     "output_type": "execute_result"
    }
   ],
   "source": [
    "category_reviews.collect() # 잘 가져왔는지 확인"
   ]
  },
  {
   "cell_type": "code",
   "execution_count": 33,
   "metadata": {},
   "outputs": [],
   "source": [
    "# 6. Key: category, Value: (reviews, 1)로 구성된 Key-Value RDD로 변환: RDD.mapValues()\n",
    "# 주의! 그냥 map으로 하면 single value가 Key가 돼버림 (('중식',125), 1)\n",
    "category_reviews_count = category_reviews.mapValues(lambda x: (x, 1))"
   ]
  },
  {
   "cell_type": "code",
   "execution_count": 34,
   "metadata": {},
   "outputs": [
    {
     "data": {
      "text/plain": [
       "[('중식', (125, 1)),\n",
       " ('중식', (235, 1)),\n",
       " ('분식', (32, 1)),\n",
       " ('분식', (534, 1)),\n",
       " ('일식', (223, 1)),\n",
       " ('일식', (52, 1)),\n",
       " ('일식', (12, 1)),\n",
       " ('아시안', (312, 1)),\n",
       " ('패스트푸드', (12, 1)),\n",
       " ('패스트푸드', (23, 1))]"
      ]
     },
     "execution_count": 34,
     "metadata": {},
     "output_type": "execute_result"
    }
   ],
   "source": [
    "category_reviews_count.collect()"
   ]
  },
  {
   "cell_type": "code",
   "execution_count": 35,
   "metadata": {},
   "outputs": [],
   "source": [
    "# 7. Key를 기준으로 reduction: RDD.reduceByKey()\n",
    "reduced = category_reviews_count.reduceByKey(lambda x, y: (x[0] + y[0], x[1] + y[1]))"
   ]
  },
  {
   "cell_type": "code",
   "execution_count": 36,
   "metadata": {},
   "outputs": [
    {
     "data": {
      "text/plain": [
       "[('중식', (360, 2)),\n",
       " ('분식', (566, 2)),\n",
       " ('일식', (287, 3)),\n",
       " ('아시안', (312, 1)),\n",
       " ('패스트푸드', (35, 2))]"
      ]
     },
     "execution_count": 36,
     "metadata": {},
     "output_type": "execute_result"
    }
   ],
   "source": [
    "reduced.collect() # 중식은 2개 식당 있고 360개 리뷰"
   ]
  },
  {
   "cell_type": "code",
   "execution_count": 39,
   "metadata": {},
   "outputs": [],
   "source": [
    "# 8. Key별 평균 reviews 계산: RDD.mapValues()\n",
    "averages = reduced.mapValues(lambda x: x[0] / x[1])"
   ]
  },
  {
   "cell_type": "code",
   "execution_count": 40,
   "metadata": {},
   "outputs": [
    {
     "data": {
      "text/plain": [
       "[('중식', 180.0),\n",
       " ('분식', 283.0),\n",
       " ('일식', 95.66666666666667),\n",
       " ('아시안', 312.0),\n",
       " ('패스트푸드', 17.5)]"
      ]
     },
     "execution_count": 40,
     "metadata": {},
     "output_type": "execute_result"
    }
   ],
   "source": [
    "averages.collect()"
   ]
  },
  {
   "cell_type": "markdown",
   "metadata": {},
   "source": [
    "## pyspark.RDD.collect(): RDD의 내용을 출력"
   ]
  },
  {
   "cell_type": "code",
   "execution_count": 41,
   "metadata": {},
   "outputs": [],
   "source": [
    "\"\"\"\n",
    "    Another method without 'parse' function -> category와 reviews만 떼주는 방법\n",
    "\"\"\"\n",
    "\n",
    "paired = filtered_lines.map(lambda x: (x.split(',')[2], (int(x.split(',')[3]), 1)))"
   ]
  }
 ],
 "metadata": {
  "kernelspec": {
   "display_name": "Python 3",
   "language": "python",
   "name": "python3"
  },
  "language_info": {
   "codemirror_mode": {
    "name": "ipython",
    "version": 3
   },
   "file_extension": ".py",
   "mimetype": "text/x-python",
   "name": "python",
   "nbconvert_exporter": "python",
   "pygments_lexer": "ipython3",
   "version": "3.8.5"
  }
 },
 "nbformat": 4,
 "nbformat_minor": 4
}
