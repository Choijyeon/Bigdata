{
 "cells": [
  {
   "cell_type": "code",
   "execution_count": 40,
   "metadata": {},
   "outputs": [],
   "source": [
    "# [+] SparkSession 설정\n",
    "from pyspark.sql import SparkSession\n",
    "\n",
    "ss = SparkSession.builder.master('local').appName('udf').getOrCreate() # Spark환경 초기화"
   ]
  },
  {
   "cell_type": "code",
   "execution_count": 41,
   "metadata": {},
   "outputs": [],
   "source": [
    "# 샘플 데이터: 한신대 맛집 및 대표메뉴\n",
    "hsu_restaurants = [\n",
    "    ('진현가든', '삼치돌솥밥', '경기 오산시 양산로 340딩', 3.5),\n",
    "    ('짜장면가', '중화비빔밥, 마파두부밥', '경기 오산시 한신대길 123 경원빌딩', 4.0),\n",
    "    ('찌개동아리', '제육전골', '경기 오산시 한신대133번길 4', 3.5),\n",
    "    ('한판삼겹', '항정살', '경기 오산시 양산로410번길 8', 3.5),\n",
    "    ('화락', '초밥', '경기 오산시 양산로 347 대성빌딩1층', 3.5),\n",
    "    ('해우리', '고기 덮밥, 해물 라면', '경기 오산시 한신대길 135 1층', 4.5),\n",
    "    ('행복한콩박사', '맑은순두부', '경기 오산시 양산로398번길 8-11', 3.5)\n",
    "]\n"
   ]
  },
  {
   "cell_type": "code",
   "execution_count": 42,
   "metadata": {},
   "outputs": [],
   "source": [
    "# [+] 스키마 정의\n",
    "schema = ['restaurant_name', 'speciality', 'address', 'score']"
   ]
  },
  {
   "cell_type": "code",
   "execution_count": 43,
   "metadata": {},
   "outputs": [],
   "source": [
    "# [+] 데이터프레임 생성\n",
    "df = ss.createDataFrame(data=hsu_restaurants, schema=schema)"
   ]
  },
  {
   "cell_type": "code",
   "execution_count": 44,
   "metadata": {},
   "outputs": [
    {
     "name": "stdout",
     "output_type": "stream",
     "text": [
      "+---------------+----------------------+---------------------------------+-----+\n",
      "|restaurant_name|            speciality|                          address|score|\n",
      "+---------------+----------------------+---------------------------------+-----+\n",
      "|       진현가든|            삼치돌솥밥|         경기 오산시 양산로 340딩|  3.5|\n",
      "|       짜장면가|중화비빔밥, 마파두부밥|경기 오산시 한신대길 123 경원빌딩|  4.0|\n",
      "|     찌개동아리|              제육전골|      경기 오산시 한신대133번길 4|  3.5|\n",
      "|       한판삼겹|                항정살|      경기 오산시 양산로410번길 8|  3.5|\n",
      "|           화락|                  초밥|   경기 오산시 양산로 347 대성...|  3.5|\n",
      "|         해우리|  고기 덮밥, 해물 라면|     경기 오산시 한신대길 135 1층|  4.5|\n",
      "|   행복한콩박사|            맑은순두부|   경기 오산시 양산로398번길 8-11|  3.5|\n",
      "+---------------+----------------------+---------------------------------+-----+\n",
      "\n"
     ]
    }
   ],
   "source": [
    "# [+] 데이터프레임 출력\n",
    "df.show()"
   ]
  },
  {
   "cell_type": "code",
   "execution_count": 45,
   "metadata": {},
   "outputs": [
    {
     "name": "stdout",
     "output_type": "stream",
     "text": [
      "root\n",
      " |-- restaurant_name: string (nullable = true)\n",
      " |-- speciality: string (nullable = true)\n",
      " |-- address: string (nullable = true)\n",
      " |-- score: double (nullable = true)\n",
      "\n"
     ]
    }
   ],
   "source": [
    "# [+] 데이터프레임 스키마 출력\n",
    "df.printSchema()"
   ]
  },
  {
   "cell_type": "code",
   "execution_count": 46,
   "metadata": {},
   "outputs": [],
   "source": [
    "# [+] Temporary View 생성 -> 수정이 안되기 때문에 temporary view만들어서 처리\n",
    "df.createOrReplaceTempView('restaurants')"
   ]
  },
  {
   "cell_type": "markdown",
   "metadata": {},
   "source": [
    "### User Defined Function 생성\n",
    "1. translate(): Google Translation API를 이용하여 한글 식당 이름을 영문으로 번역하는 함수\n",
    "2. scale_score(): 5점 만점 평점을 100점 스케일로 변환하는 함수"
   ]
  },
  {
   "cell_type": "code",
   "execution_count": 47,
   "metadata": {},
   "outputs": [
    {
     "name": "stdout",
     "output_type": "stream",
     "text": [
      "Requirement already satisfied: googletrans==4.0.0-rc1 in c:\\users\\wlgus\\anaconda3\\lib\\site-packages (4.0.0rc1)\n",
      "Requirement already satisfied: httpx==0.13.3 in c:\\users\\wlgus\\anaconda3\\lib\\site-packages (from googletrans==4.0.0-rc1) (0.13.3)\n",
      "Requirement already satisfied: httpcore==0.9.* in c:\\users\\wlgus\\anaconda3\\lib\\site-packages (from httpx==0.13.3->googletrans==4.0.0-rc1) (0.9.1)\n",
      "Requirement already satisfied: sniffio in c:\\users\\wlgus\\anaconda3\\lib\\site-packages (from httpx==0.13.3->googletrans==4.0.0-rc1) (1.2.0)\n",
      "Requirement already satisfied: idna==2.* in c:\\users\\wlgus\\anaconda3\\lib\\site-packages (from httpx==0.13.3->googletrans==4.0.0-rc1) (2.10)\n",
      "Requirement already satisfied: rfc3986<2,>=1.3 in c:\\users\\wlgus\\anaconda3\\lib\\site-packages (from httpx==0.13.3->googletrans==4.0.0-rc1) (1.5.0)\n",
      "Requirement already satisfied: chardet==3.* in c:\\users\\wlgus\\anaconda3\\lib\\site-packages (from httpx==0.13.3->googletrans==4.0.0-rc1) (3.0.4)\n",
      "Requirement already satisfied: certifi in c:\\users\\wlgus\\anaconda3\\lib\\site-packages (from httpx==0.13.3->googletrans==4.0.0-rc1) (2020.6.20)\n",
      "Requirement already satisfied: hstspreload in c:\\users\\wlgus\\anaconda3\\lib\\site-packages (from httpx==0.13.3->googletrans==4.0.0-rc1) (2021.12.1)\n",
      "Requirement already satisfied: h11<0.10,>=0.8 in c:\\users\\wlgus\\anaconda3\\lib\\site-packages (from httpcore==0.9.*->httpx==0.13.3->googletrans==4.0.0-rc1) (0.9.0)\n",
      "Requirement already satisfied: h2==3.* in c:\\users\\wlgus\\anaconda3\\lib\\site-packages (from httpcore==0.9.*->httpx==0.13.3->googletrans==4.0.0-rc1) (3.2.0)\n",
      "Requirement already satisfied: hyperframe<6,>=5.2.0 in c:\\users\\wlgus\\anaconda3\\lib\\site-packages (from h2==3.*->httpcore==0.9.*->httpx==0.13.3->googletrans==4.0.0-rc1) (5.2.0)\n",
      "Requirement already satisfied: hpack<4,>=3.0 in c:\\users\\wlgus\\anaconda3\\lib\\site-packages (from h2==3.*->httpcore==0.9.*->httpx==0.13.3->googletrans==4.0.0-rc1) (3.0.0)\n"
     ]
    }
   ],
   "source": [
    "# Google translation 라이브러리 설치\n",
    "!pip install googletrans==4.0.0-rc1"
   ]
  },
  {
   "cell_type": "code",
   "execution_count": 48,
   "metadata": {},
   "outputs": [],
   "source": [
    "# [+] Google translator 임포트\n",
    "from googletrans import Translator"
   ]
  },
  {
   "cell_type": "code",
   "execution_count": 49,
   "metadata": {},
   "outputs": [],
   "source": [
    "# [+] 번역 테스트\n",
    "translator = Translator()\n",
    "result = translator.translate('찌개동아리', src='ko', dest='en') # src:입력문자의 언어 "
   ]
  },
  {
   "cell_type": "code",
   "execution_count": 50,
   "metadata": {},
   "outputs": [
    {
     "name": "stdout",
     "output_type": "stream",
     "text": [
      "Translated(src=ko, dest=en, text=Stew, pronunciation=None, extra_data=\"{'confiden...\")\n"
     ]
    }
   ],
   "source": [
    "# [+] 번역 결과 출력\n",
    "print(result)\n",
    "# print로 출력하면 Translated라는 객체로 만들어서 return. 잡다한 정보도 출력"
   ]
  },
  {
   "cell_type": "code",
   "execution_count": 51,
   "metadata": {},
   "outputs": [
    {
     "data": {
      "text/plain": [
       "'Stew'"
      ]
     },
     "execution_count": 51,
     "metadata": {},
     "output_type": "execute_result"
    }
   ],
   "source": [
    "result.text"
   ]
  },
  {
   "cell_type": "code",
   "execution_count": 52,
   "metadata": {},
   "outputs": [
    {
     "data": {
      "text/plain": [
       "{'confidence': None,\n",
       " 'parts': [<googletrans.models.TranslatedPart at 0x223929be520>],\n",
       " 'origin_pronunciation': 'jjigaedong-ali',\n",
       " 'parsed': [['jjigaedong-ali',\n",
       "   None,\n",
       "   None,\n",
       "   [[[0, [[[None, 5]], [True]]]], 5],\n",
       "   [['찌개동아리', None, None, 5]]],\n",
       "  [[[None,\n",
       "     None,\n",
       "     None,\n",
       "     None,\n",
       "     None,\n",
       "     [['Stew', None, None, None, [['Stew', [5]], ['Jjig', [11]]]]]]],\n",
       "   'en',\n",
       "   1,\n",
       "   'ko',\n",
       "   ['찌개동아리', 'ko', 'en', True]],\n",
       "  'ko']}"
      ]
     },
     "execution_count": 52,
     "metadata": {},
     "output_type": "execute_result"
    }
   ],
   "source": [
    "# [+] extra_data 출력\n",
    "result.extra_data\n",
    "# key-value형태로 출력됨 = dictionary형식\n",
    "# origin_pronunciation : 영어 발음"
   ]
  },
  {
   "cell_type": "code",
   "execution_count": 53,
   "metadata": {},
   "outputs": [
    {
     "data": {
      "text/plain": [
       "'jjigaedong-ali'"
      ]
     },
     "execution_count": 53,
     "metadata": {},
     "output_type": "execute_result"
    }
   ],
   "source": [
    "# [+] 영어 발음(pronunciation) 출력\n",
    "result.extra_data.get('origin_pronunciation') # dictionary형식에서는 get으로 가져와야함."
   ]
  },
  {
   "cell_type": "code",
   "execution_count": 68,
   "metadata": {},
   "outputs": [],
   "source": [
    "from pyspark.sql.functions import udf # annotation방식"
   ]
  },
  {
   "cell_type": "code",
   "execution_count": 69,
   "metadata": {},
   "outputs": [],
   "source": [
    "# [+] UDF 1: 한글->영문 번역 함수\n",
    "\n",
    "\n",
    "def translate(text):\n",
    "    from googletrans import Translator\n",
    "    translator = Translator() # import하는 준비코드 함수 내에 넣어줘야함\n",
    "    result = translator.translate(text, src='ko', dest='en')\n",
    "    return result.extra_data.get('origin_pronunciation')"
   ]
  },
  {
   "cell_type": "code",
   "execution_count": 70,
   "metadata": {},
   "outputs": [
    {
     "data": {
      "text/plain": [
       "<function __main__.translate(text)>"
      ]
     },
     "execution_count": 70,
     "metadata": {},
     "output_type": "execute_result"
    }
   ],
   "source": [
    "# [+] UDF 등록 - SQL내에서 사용할 함수(함수명 달라도 되지만 굳이?)\n",
    "ss.udf.register('translate', translate)"
   ]
  },
  {
   "cell_type": "code",
   "execution_count": 79,
   "metadata": {},
   "outputs": [
    {
     "name": "stdout",
     "output_type": "stream",
     "text": [
      "+---------------+--------------------+----------------------+---------------------------------+-----+\n",
      "|restaurant_name| restaurant_eng_name|            speciality|                          address|score|\n",
      "+---------------+--------------------+----------------------+---------------------------------+-----+\n",
      "|       진현가든|      jinhyeongadeun|            삼치돌솥밥|         경기 오산시 양산로 340딩|  3.5|\n",
      "|       짜장면가|      jjajangmyeonga|중화비빔밥, 마파두부밥|경기 오산시 한신대길 123 경원빌딩|  4.0|\n",
      "|     찌개동아리|      jjigaedong-ali|              제육전골|      경기 오산시 한신대133번길 4|  3.5|\n",
      "|       한판삼겹|      hanpansamgyeob|                항정살|      경기 오산시 양산로410번길 8|  3.5|\n",
      "|           화락|              hwalag|                  초밥|   경기 오산시 양산로 347 대성...|  3.5|\n",
      "|         해우리|              haeuli|  고기 덮밥, 해물 라면|     경기 오산시 한신대길 135 1층|  4.5|\n",
      "|   행복한콩박사|haengboghankongbagsa|            맑은순두부|   경기 오산시 양산로398번길 8-11|  3.5|\n",
      "+---------------+--------------------+----------------------+---------------------------------+-----+\n",
      "\n"
     ]
    }
   ],
   "source": [
    "# [+] SQL문 처리\n",
    "ss.sql(\"SELECT restaurant_name, translate(restaurant_name) AS restaurant_eng_name, speciality, address, score FROM restaurants\").show()\n",
    "# name과 speciality사이에 translate넣어주기\n",
    "# 별칭만드는 키워드 AS 사용헤서 이름 바꾸기"
   ]
  },
  {
   "cell_type": "code",
   "execution_count": 80,
   "metadata": {},
   "outputs": [],
   "source": [
    "# [+] Annotation 방식으로 UDF 등록하기 -> 함수 정의부에 @udf붙여서 사용하는 것 !!중복해서 사용하면 안됨!!"
   ]
  },
  {
   "cell_type": "code",
   "execution_count": 81,
   "metadata": {},
   "outputs": [],
   "source": [
    "# [+] UDF 2: score -> 100점 스케일 변환 함수 => 원점수에 2씩 곱하기\n",
    "\n",
    "def scale_score(score):\n",
    "    return score * 20"
   ]
  },
  {
   "cell_type": "code",
   "execution_count": 82,
   "metadata": {},
   "outputs": [
    {
     "data": {
      "text/plain": [
       "<function __main__.scale_score(score)>"
      ]
     },
     "execution_count": 82,
     "metadata": {},
     "output_type": "execute_result"
    }
   ],
   "source": [
    "ss.udf.register('scale_score', scale_score)"
   ]
  },
  {
   "cell_type": "code",
   "execution_count": 83,
   "metadata": {},
   "outputs": [
    {
     "name": "stdout",
     "output_type": "stream",
     "text": [
      "+---------------+--------------------+----------------------+---------------------------------+------------+\n",
      "|restaurant_name| restaurant_eng_name|            speciality|                          address|scaled_score|\n",
      "+---------------+--------------------+----------------------+---------------------------------+------------+\n",
      "|       진현가든|      jinhyeongadeun|            삼치돌솥밥|         경기 오산시 양산로 340딩|        70.0|\n",
      "|       짜장면가|      jjajangmyeonga|중화비빔밥, 마파두부밥|경기 오산시 한신대길 123 경원빌딩|        80.0|\n",
      "|     찌개동아리|      jjigaedong-ali|              제육전골|      경기 오산시 한신대133번길 4|        70.0|\n",
      "|       한판삼겹|      hanpansamgyeob|                항정살|      경기 오산시 양산로410번길 8|        70.0|\n",
      "|           화락|              hwalag|                  초밥|   경기 오산시 양산로 347 대성...|        70.0|\n",
      "|         해우리|              haeuli|  고기 덮밥, 해물 라면|     경기 오산시 한신대길 135 1층|        90.0|\n",
      "|   행복한콩박사|haengboghankongbagsa|            맑은순두부|   경기 오산시 양산로398번길 8-11|        70.0|\n",
      "+---------------+--------------------+----------------------+---------------------------------+------------+\n",
      "\n"
     ]
    }
   ],
   "source": [
    "# [+] SQL문처리 -> 5점만점에서 100점만점 스케일로\n",
    "ss.sql(\"SELECT restaurant_name, translate(restaurant_name) AS restaurant_eng_name, \\\n",
    "        speciality, address, scale_score(score) AS scaled_score \\\n",
    "        FROM restaurants\").show()"
   ]
  }
 ],
 "metadata": {
  "kernelspec": {
   "display_name": "Python 3",
   "language": "python",
   "name": "python3"
  },
  "language_info": {
   "codemirror_mode": {
    "name": "ipython",
    "version": 3
   },
   "file_extension": ".py",
   "mimetype": "text/x-python",
   "name": "python",
   "nbconvert_exporter": "python",
   "pygments_lexer": "ipython3",
   "version": "3.8.5"
  }
 },
 "nbformat": 4,
 "nbformat_minor": 4
}
