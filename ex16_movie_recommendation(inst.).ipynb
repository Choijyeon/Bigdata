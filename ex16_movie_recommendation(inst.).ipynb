{
 "cells": [
  {
   "cell_type": "code",
   "execution_count": 1,
   "metadata": {},
   "outputs": [],
   "source": [
    "# [+] SparkSession 설정\n",
    "\n",
    "from pyspark.sql import SparkSession\n",
    "ss = SparkSession.builder.appName('movie-recommendation').getOrCreate()"
   ]
  },
  {
   "cell_type": "code",
   "execution_count": 2,
   "metadata": {},
   "outputs": [],
   "source": [
    "# [+] movielens 데이터 불러오기\n",
    "# ratings_short.csv: 원본 데이터에서 7만개의 평점 데이터만 선택한 버전\n",
    "ratings_df = ss.read.csv('./data/ratings_short.csv', inferSchema=True, header=True)"
   ]
  },
  {
   "cell_type": "code",
   "execution_count": 3,
   "metadata": {},
   "outputs": [
    {
     "name": "stdout",
     "output_type": "stream",
     "text": [
      "+------+-------+------+----------+\n",
      "|userId|movieId|rating| timestamp|\n",
      "+------+-------+------+----------+\n",
      "|     1|    296|   5.0|1147880044|\n",
      "|     1|    306|   3.5|1147868817|\n",
      "|     1|    307|   5.0|1147868828|\n",
      "|     1|    665|   5.0|1147878820|\n",
      "|     1|    899|   3.5|1147868510|\n",
      "|     1|   1088|   4.0|1147868495|\n",
      "|     1|   1175|   3.5|1147868826|\n",
      "|     1|   1217|   3.5|1147878326|\n",
      "|     1|   1237|   5.0|1147868839|\n",
      "|     1|   1250|   4.0|1147868414|\n",
      "|     1|   1260|   3.5|1147877857|\n",
      "|     1|   1653|   4.0|1147868097|\n",
      "|     1|   2011|   2.5|1147868079|\n",
      "|     1|   2012|   2.5|1147868068|\n",
      "|     1|   2068|   2.5|1147869044|\n",
      "|     1|   2161|   3.5|1147868609|\n",
      "|     1|   2351|   4.5|1147877957|\n",
      "|     1|   2573|   4.0|1147878923|\n",
      "|     1|   2632|   5.0|1147878248|\n",
      "|     1|   2692|   5.0|1147869100|\n",
      "+------+-------+------+----------+\n",
      "only showing top 20 rows\n",
      "\n"
     ]
    }
   ],
   "source": [
    "ratings_df.show()"
   ]
  },
  {
   "cell_type": "code",
   "execution_count": 4,
   "metadata": {},
   "outputs": [
    {
     "name": "stdout",
     "output_type": "stream",
     "text": [
      "root\n",
      " |-- userId: integer (nullable = true)\n",
      " |-- movieId: integer (nullable = true)\n",
      " |-- rating: double (nullable = true)\n",
      " |-- timestamp: integer (nullable = true)\n",
      "\n"
     ]
    }
   ],
   "source": [
    "ratings_df.printSchema()"
   ]
  },
  {
   "cell_type": "code",
   "execution_count": 5,
   "metadata": {},
   "outputs": [],
   "source": [
    "# [+] 타임스탬프 제외한 컬럼 선택\n",
    "ratings_df = ratings_df.select(['userId', 'movieId', 'rating'])"
   ]
  },
  {
   "cell_type": "code",
   "execution_count": 6,
   "metadata": {},
   "outputs": [
    {
     "name": "stdout",
     "output_type": "stream",
     "text": [
      "+-------+------------------+\n",
      "|summary|            rating|\n",
      "+-------+------------------+\n",
      "|  count|             71921|\n",
      "|   mean|3.5821387355570695|\n",
      "| stddev| 1.042406032579843|\n",
      "|    min|               0.5|\n",
      "|    max|               5.0|\n",
      "+-------+------------------+\n",
      "\n"
     ]
    }
   ],
   "source": [
    "# [+] describe(): 기본 통계치 출력\n",
    "ratings_df.select('rating').describe().show()"
   ]
  },
  {
   "cell_type": "code",
   "execution_count": 7,
   "metadata": {},
   "outputs": [],
   "source": [
    "# [+] randomSplit(): 훈련 데이터셋과 테스트 데이터셋을 나누기\n",
    "\n",
    "train_df, test_df = ratings_df.randomSplit([0.8, 0.2])"
   ]
  },
  {
   "cell_type": "code",
   "execution_count": 8,
   "metadata": {},
   "outputs": [],
   "source": [
    "# [+] 추천 알고리즘(Alternating Least Squares) 임포트\n",
    "# pyspark.ml.recommendation.ALS\n",
    "from  pyspark.ml.recommendation import ALS"
   ]
  },
  {
   "cell_type": "code",
   "execution_count": 9,
   "metadata": {},
   "outputs": [],
   "source": [
    "# 추천 알고리즘 설정\n",
    "\n",
    "als = ALS(\n",
    "    maxIter=5,\n",
    "    regParam=0.1,\n",
    "    userCol='userId',\n",
    "    itemCol='movieId',\n",
    "    ratingCol='rating',\n",
    "    coldStartStrategy='drop'\n",
    ")"
   ]
  },
  {
   "cell_type": "code",
   "execution_count": 10,
   "metadata": {},
   "outputs": [],
   "source": [
    "# [+] 모델 학습\n",
    "model = als.fit(train_df)"
   ]
  },
  {
   "cell_type": "code",
   "execution_count": 11,
   "metadata": {},
   "outputs": [],
   "source": [
    "# # 메모리 부족으로 인한 오류 발생시, 아래의 코드를 실행\n",
    "# from pyspark.sql import SparkSession\n",
    "\n",
    "# MAX_MEMORY = '5g'\n",
    "# ss = SparkSession.builder.appName('movie-recommendation')\\\n",
    "#     .config('spark.executor.memory', MAX_MEMORY)\\\n",
    "#     .config('spark.driver.memory', MAX_MEMORY)\\\n",
    "#     .getOrCreate()"
   ]
  },
  {
   "cell_type": "code",
   "execution_count": 12,
   "metadata": {},
   "outputs": [],
   "source": [
    "# [+] 모델 예측\n",
    "predictions = model.transform(test_df)"
   ]
  },
  {
   "cell_type": "code",
   "execution_count": 13,
   "metadata": {},
   "outputs": [
    {
     "name": "stdout",
     "output_type": "stream",
     "text": [
      "+------+-------+------+----------+\n",
      "|userId|movieId|rating|prediction|\n",
      "+------+-------+------+----------+\n",
      "|   243|   1580|   3.0| 3.0759199|\n",
      "|    31|   8638|   2.0| 2.4276896|\n",
      "|   368|   1580|   3.5|  3.732476|\n",
      "|    76|   1342|   3.5| 3.1450458|\n",
      "|    76|   1959|   5.0| 3.4782035|\n",
      "|   501|   1580|   5.0| 3.6485245|\n",
      "|    12|    471|   4.0|   3.86801|\n",
      "|   548|   1591|   2.5| 2.7636259|\n",
      "|   548|   7982|   5.0| 3.5855055|\n",
      "|    91|   8638|   3.0| 3.2730346|\n",
      "|    91|  96488|   2.0| 3.2402313|\n",
      "|   285|   1088|   4.0| 2.5594413|\n",
      "|   285|   1959|   4.0| 2.1162264|\n",
      "|   233|   1580|   5.0| 3.6286223|\n",
      "|   416|   1645|   4.0| 2.7413275|\n",
      "|   132|   1959|   4.0| 2.6624627|\n",
      "|   355|  68135|   3.0| 3.1128476|\n",
      "|   325|   1580|   3.0| 3.2281606|\n",
      "|     1|   1088|   4.0| 3.0745966|\n",
      "|   442|    471|   5.0|  3.360355|\n",
      "+------+-------+------+----------+\n",
      "only showing top 20 rows\n",
      "\n"
     ]
    }
   ],
   "source": [
    "predictions.show()"
   ]
  },
  {
   "cell_type": "code",
   "execution_count": 14,
   "metadata": {},
   "outputs": [
    {
     "name": "stdout",
     "output_type": "stream",
     "text": [
      "+-------+------------------+------------------+\n",
      "|summary|            rating|        prediction|\n",
      "+-------+------------------+------------------+\n",
      "|  count|             13665|             13665|\n",
      "|   mean| 3.607610684229784| 3.429338112438593|\n",
      "| stddev|1.0369176538122387|0.7555889584286211|\n",
      "|    min|               0.5|       -0.11027547|\n",
      "|    max|               5.0|         5.7190866|\n",
      "+-------+------------------+------------------+\n",
      "\n"
     ]
    }
   ],
   "source": [
    "# [+] 평점과 예측평점에 대한 통계 출력\n",
    "predictions.select('rating', 'prediction').describe().show()"
   ]
  },
  {
   "cell_type": "code",
   "execution_count": 15,
   "metadata": {},
   "outputs": [],
   "source": [
    "# 모델 성능 평가: RMSE(Root Mean Squared Error)\n",
    "from pyspark.ml.evaluation import RegressionEvaluator\n",
    "\n",
    "evaluator = RegressionEvaluator(\n",
    "    metricName='rmse',\n",
    "    labelCol='rating',\n",
    "    predictionCol='prediction'\n",
    ")"
   ]
  },
  {
   "cell_type": "code",
   "execution_count": 16,
   "metadata": {},
   "outputs": [],
   "source": [
    "# [+] RMSE 측정\n",
    "rmse = evaluator.evaluate(predictions)"
   ]
  },
  {
   "cell_type": "code",
   "execution_count": 17,
   "metadata": {},
   "outputs": [
    {
     "data": {
      "text/plain": [
       "0.9080325694594664"
      ]
     },
     "execution_count": 17,
     "metadata": {},
     "output_type": "execute_result"
    }
   ],
   "source": [
    "rmse"
   ]
  },
  {
   "cell_type": "code",
   "execution_count": 18,
   "metadata": {},
   "outputs": [
    {
     "name": "stderr",
     "output_type": "stream",
     "text": [
      "C:\\Users\\wlgus\\anaconda3\\lib\\site-packages\\pyspark\\sql\\context.py:125: FutureWarning: Deprecated in 3.0.0. Use SparkSession.builder.getOrCreate() instead.\n",
      "  warnings.warn(\n"
     ]
    },
    {
     "name": "stdout",
     "output_type": "stream",
     "text": [
      "+------+--------------------+\n",
      "|userId|     recommendations|\n",
      "+------+--------------------+\n",
      "|     1|[{3881, 5.20797},...|\n",
      "|     2|[{3676, 5.4592395...|\n",
      "|     3|[{8582, 4.878655}...|\n",
      "|     4|[{1564, 5.048351}...|\n",
      "|     5|[{8582, 5.110438}...|\n",
      "|     6|[{127098, 5.53012...|\n",
      "|     7|[{8582, 4.6796584...|\n",
      "|     8|[{26003, 5.070140...|\n",
      "|     9|[{193065, 5.90253...|\n",
      "|    10|[{6530, 4.976697}...|\n",
      "|    11|[{4546, 5.389875}...|\n",
      "|    12|[{4903, 4.755283}...|\n",
      "|    13|[{8582, 5.0066895...|\n",
      "|    14|[{8235, 5.482001}...|\n",
      "|    15|[{3881, 5.9195447...|\n",
      "|    16|[{3881, 5.6412206...|\n",
      "|    17|[{105504, 4.87697...|\n",
      "|    18|[{5108, 5.1238074...|\n",
      "|    19|[{141432, 4.89997...|\n",
      "|    20|[{6286, 5.752571}...|\n",
      "+------+--------------------+\n",
      "only showing top 20 rows\n",
      "\n"
     ]
    }
   ],
   "source": [
    "# [+] 학습된 모델을 이용하여 유저별 아이템을 3개씩 추천\n",
    "model.recommendForAllUsers(3).show()"
   ]
  },
  {
   "cell_type": "code",
   "execution_count": 19,
   "metadata": {},
   "outputs": [
    {
     "name": "stdout",
     "output_type": "stream",
     "text": [
      "+-------+--------------------+\n",
      "|movieId|     recommendations|\n",
      "+-------+--------------------+\n",
      "|     12|[{198, 4.8726783}...|\n",
      "|     26|[{252, 4.407937},...|\n",
      "|     27|[{240, 4.305439},...|\n",
      "|     28|[{235, 5.4227257}...|\n",
      "|     31|[{198, 4.7027736}...|\n",
      "|     34|[{87, 5.1358156},...|\n",
      "|     44|[{240, 4.2506495}...|\n",
      "|     65|[{153, 3.863797},...|\n",
      "|     76|[{240, 4.403467},...|\n",
      "|     78|[{87, 4.0492043},...|\n",
      "|     81|[{274, 4.785816},...|\n",
      "|     85|[{87, 4.681914}, ...|\n",
      "|    101|[{87, 5.428907}, ...|\n",
      "|    103|[{22, 4.4386964},...|\n",
      "|    115|[{174, 4.032761},...|\n",
      "|    155|[{22, 5.434549}, ...|\n",
      "|    159|[{127, 4.238339},...|\n",
      "|    183|[{240, 4.4472146}...|\n",
      "|    193|[{199, 4.5595484}...|\n",
      "|    210|[{240, 4.552015},...|\n",
      "+-------+--------------------+\n",
      "only showing top 20 rows\n",
      "\n"
     ]
    }
   ],
   "source": [
    "# [+] 학습된 모델을 이용하여 아이템별 유저를 3명씩 추천\n",
    "model.recommendForAllItems(3).show()"
   ]
  },
  {
   "cell_type": "code",
   "execution_count": 20,
   "metadata": {},
   "outputs": [],
   "source": [
    "# 특정 유저 선택\n",
    "user_lst = [1]"
   ]
  },
  {
   "cell_type": "code",
   "execution_count": 21,
   "metadata": {},
   "outputs": [],
   "source": [
    "from pyspark.sql.types import IntegerType"
   ]
  },
  {
   "cell_type": "code",
   "execution_count": 22,
   "metadata": {},
   "outputs": [],
   "source": [
    "# 데이터프레임생성\n",
    "users_df = ss.createDataFrame(user_lst, IntegerType()).toDF('userID')"
   ]
  },
  {
   "cell_type": "code",
   "execution_count": 23,
   "metadata": {},
   "outputs": [
    {
     "name": "stdout",
     "output_type": "stream",
     "text": [
      "+------+\n",
      "|userID|\n",
      "+------+\n",
      "|     1|\n",
      "+------+\n",
      "\n"
     ]
    }
   ],
   "source": [
    "users_df.show()"
   ]
  },
  {
   "cell_type": "code",
   "execution_count": 24,
   "metadata": {},
   "outputs": [],
   "source": [
    "# recommendForUserSubset(): 특정 유저 그룹에 대한 아이템 추천\n",
    "user_recs = model.recommendForUserSubset(users_df, 5)"
   ]
  },
  {
   "cell_type": "code",
   "execution_count": 25,
   "metadata": {},
   "outputs": [
    {
     "name": "stdout",
     "output_type": "stream",
     "text": [
      "+------+--------------------+\n",
      "|userId|     recommendations|\n",
      "+------+--------------------+\n",
      "|     1|[{3881, 5.20797},...|\n",
      "+------+--------------------+\n",
      "\n"
     ]
    }
   ],
   "source": [
    "user_recs.show()"
   ]
  },
  {
   "cell_type": "code",
   "execution_count": 26,
   "metadata": {},
   "outputs": [],
   "source": [
    "# 추천결과를 파이썬 객체로 받아오기\n",
    "movies_lst = user_recs.collect()[0].recommendations"
   ]
  },
  {
   "cell_type": "code",
   "execution_count": 27,
   "metadata": {},
   "outputs": [
    {
     "data": {
      "text/plain": [
       "[Row(movieId=3881, rating=5.207970142364502),\n",
       " Row(movieId=3470, rating=5.039545059204102),\n",
       " Row(movieId=7156, rating=5.002124786376953),\n",
       " Row(movieId=8327, rating=4.9655070304870605),\n",
       " Row(movieId=5767, rating=4.906437873840332)]"
      ]
     },
     "execution_count": 27,
     "metadata": {},
     "output_type": "execute_result"
    }
   ],
   "source": [
    "movies_lst"
   ]
  },
  {
   "cell_type": "code",
   "execution_count": 28,
   "metadata": {},
   "outputs": [
    {
     "name": "stdout",
     "output_type": "stream",
     "text": [
      "+-------+------------------+\n",
      "|movieId|            rating|\n",
      "+-------+------------------+\n",
      "|   3881| 5.207970142364502|\n",
      "|   3470| 5.039545059204102|\n",
      "|   7156| 5.002124786376953|\n",
      "|   8327|4.9655070304870605|\n",
      "|   5767| 4.906437873840332|\n",
      "+-------+------------------+\n",
      "\n"
     ]
    }
   ],
   "source": [
    "# movies_lst 에 대한 데이터프레임 생성\n",
    "recs_df = ss.createDataFrame(movies_lst)\n",
    "recs_df.show()"
   ]
  },
  {
   "cell_type": "code",
   "execution_count": 29,
   "metadata": {},
   "outputs": [
    {
     "name": "stdout",
     "output_type": "stream",
     "text": [
      "+-------+--------------------+--------------------+\n",
      "|movieId|               title|              genres|\n",
      "+-------+--------------------+--------------------+\n",
      "|      1|    Toy Story (1995)|Adventure|Animati...|\n",
      "|      2|      Jumanji (1995)|Adventure|Childre...|\n",
      "|      3|Grumpier Old Men ...|      Comedy|Romance|\n",
      "|      4|Waiting to Exhale...|Comedy|Drama|Romance|\n",
      "|      5|Father of the Bri...|              Comedy|\n",
      "|      6|         Heat (1995)|Action|Crime|Thri...|\n",
      "|      7|      Sabrina (1995)|      Comedy|Romance|\n",
      "|      8| Tom and Huck (1995)|  Adventure|Children|\n",
      "|      9| Sudden Death (1995)|              Action|\n",
      "|     10|    GoldenEye (1995)|Action|Adventure|...|\n",
      "|     11|American Presiden...|Comedy|Drama|Romance|\n",
      "|     12|Dracula: Dead and...|       Comedy|Horror|\n",
      "|     13|        Balto (1995)|Adventure|Animati...|\n",
      "|     14|        Nixon (1995)|               Drama|\n",
      "|     15|Cutthroat Island ...|Action|Adventure|...|\n",
      "|     16|       Casino (1995)|         Crime|Drama|\n",
      "|     17|Sense and Sensibi...|       Drama|Romance|\n",
      "|     18|   Four Rooms (1995)|              Comedy|\n",
      "|     19|Ace Ventura: When...|              Comedy|\n",
      "|     20|  Money Train (1995)|Action|Comedy|Cri...|\n",
      "+-------+--------------------+--------------------+\n",
      "only showing top 20 rows\n",
      "\n"
     ]
    }
   ],
   "source": [
    "# [+] 영화 데이터에 대한 데이터프레임 생성\n",
    "movies_df = ss.read.csv('./data/movies_short.csv', inferSchema=True, header=True)\n",
    "movies_df.show()"
   ]
  },
  {
   "cell_type": "code",
   "execution_count": 30,
   "metadata": {},
   "outputs": [],
   "source": [
    "# [+] recs_df, movies_df 에 대한 Temporary View 생성\n",
    "recs_df.createOrReplaceTempView('recommendations')\n",
    "movies_df.createOrReplaceTempView('movies')"
   ]
  },
  {
   "cell_type": "code",
   "execution_count": 31,
   "metadata": {},
   "outputs": [
    {
     "data": {
      "text/html": [
       "<div>\n",
       "<style scoped>\n",
       "    .dataframe tbody tr th:only-of-type {\n",
       "        vertical-align: middle;\n",
       "    }\n",
       "\n",
       "    .dataframe tbody tr th {\n",
       "        vertical-align: top;\n",
       "    }\n",
       "\n",
       "    .dataframe thead th {\n",
       "        text-align: right;\n",
       "    }\n",
       "</style>\n",
       "<table border=\"1\" class=\"dataframe\">\n",
       "  <thead>\n",
       "    <tr style=\"text-align: right;\">\n",
       "      <th></th>\n",
       "      <th>movieId</th>\n",
       "      <th>title</th>\n",
       "      <th>genres</th>\n",
       "      <th>movieId</th>\n",
       "      <th>rating</th>\n",
       "    </tr>\n",
       "  </thead>\n",
       "  <tbody>\n",
       "    <tr>\n",
       "      <th>0</th>\n",
       "      <td>8327</td>\n",
       "      <td>Dolls (2002)</td>\n",
       "      <td>Drama|Romance</td>\n",
       "      <td>8327</td>\n",
       "      <td>4.965507</td>\n",
       "    </tr>\n",
       "  </tbody>\n",
       "</table>\n",
       "</div>"
      ],
      "text/plain": [
       "   movieId         title         genres  movieId    rating\n",
       "0     8327  Dolls (2002)  Drama|Romance     8327  4.965507"
      ]
     },
     "execution_count": 31,
     "metadata": {},
     "output_type": "execute_result"
    }
   ],
   "source": [
    "# [+] SQL JOIN 연산을 통해 추천된 영화 제목 받아오기\n",
    "ss.sql(\"SELECT * FROM movies \\\n",
    "        JOIN recommendations ON movies.movieID = recommendations.movieID \\\n",
    "        ORDER BY rating DESC\").toPandas()"
   ]
  },
  {
   "cell_type": "code",
   "execution_count": 32,
   "metadata": {},
   "outputs": [],
   "source": [
    "\"\"\"\n",
    "    유저 별 영화 추천 서비스를 함수로 정의하기\n",
    "    1. 쿼리문 작성\n",
    "    2. 추천 함수 작성\n",
    "\"\"\"\n",
    "\n",
    "query = \"\"\"\n",
    "SELECT * \n",
    "FROM movies\n",
    "JOIN recommendations ON movies.movieID = recommendations.movieID \\\n",
    "ORDER BY rating DESC\n",
    "\"\"\""
   ]
  },
  {
   "cell_type": "code",
   "execution_count": 33,
   "metadata": {},
   "outputs": [],
   "source": [
    "def get_recommendations(user_id, num_recs):\n",
    "    users_df = ss.createDataFrame([user_id], IntegerType()).toDF('userID')\n",
    "    users_recs_df = model.recommendForUserSubset(users_df, num_recs)\n",
    "    \n",
    "    recs_lst = users_recs_df.collect()[0].recommendations\n",
    "    recs_df = ss.createDataFrame(recs_lst)\n",
    "    recommended_movies = ss.sql(query)\n",
    "    return recommended_movies"
   ]
  },
  {
   "cell_type": "code",
   "execution_count": 34,
   "metadata": {},
   "outputs": [
    {
     "name": "stderr",
     "output_type": "stream",
     "text": [
      "C:\\Users\\wlgus\\anaconda3\\lib\\site-packages\\pyspark\\sql\\context.py:125: FutureWarning: Deprecated in 3.0.0. Use SparkSession.builder.getOrCreate() instead.\n",
      "  warnings.warn(\n"
     ]
    }
   ],
   "source": [
    "# 1번 유저에 대한 영화추천\n",
    "recs = get_recommendations(1, 5)"
   ]
  },
  {
   "cell_type": "code",
   "execution_count": 35,
   "metadata": {},
   "outputs": [
    {
     "data": {
      "text/html": [
       "<div>\n",
       "<style scoped>\n",
       "    .dataframe tbody tr th:only-of-type {\n",
       "        vertical-align: middle;\n",
       "    }\n",
       "\n",
       "    .dataframe tbody tr th {\n",
       "        vertical-align: top;\n",
       "    }\n",
       "\n",
       "    .dataframe thead th {\n",
       "        text-align: right;\n",
       "    }\n",
       "</style>\n",
       "<table border=\"1\" class=\"dataframe\">\n",
       "  <thead>\n",
       "    <tr style=\"text-align: right;\">\n",
       "      <th></th>\n",
       "      <th>movieId</th>\n",
       "      <th>title</th>\n",
       "      <th>genres</th>\n",
       "      <th>movieId</th>\n",
       "      <th>rating</th>\n",
       "    </tr>\n",
       "  </thead>\n",
       "  <tbody>\n",
       "    <tr>\n",
       "      <th>0</th>\n",
       "      <td>8327</td>\n",
       "      <td>Dolls (2002)</td>\n",
       "      <td>Drama|Romance</td>\n",
       "      <td>8327</td>\n",
       "      <td>4.965507</td>\n",
       "    </tr>\n",
       "  </tbody>\n",
       "</table>\n",
       "</div>"
      ],
      "text/plain": [
       "   movieId         title         genres  movieId    rating\n",
       "0     8327  Dolls (2002)  Drama|Romance     8327  4.965507"
      ]
     },
     "execution_count": 35,
     "metadata": {},
     "output_type": "execute_result"
    }
   ],
   "source": [
    "# toPandas(): Pandas 데이터프레임으로 출력\n",
    "recs.toPandas()"
   ]
  },
  {
   "cell_type": "code",
   "execution_count": null,
   "metadata": {},
   "outputs": [],
   "source": []
  }
 ],
 "metadata": {
  "kernelspec": {
   "display_name": "Python 3",
   "language": "python",
   "name": "python3"
  },
  "language_info": {
   "codemirror_mode": {
    "name": "ipython",
    "version": 3
   },
   "file_extension": ".py",
   "mimetype": "text/x-python",
   "name": "python",
   "nbconvert_exporter": "python",
   "pygments_lexer": "ipython3",
   "version": "3.8.5"
  }
 },
 "nbformat": 4,
 "nbformat_minor": 5
}
